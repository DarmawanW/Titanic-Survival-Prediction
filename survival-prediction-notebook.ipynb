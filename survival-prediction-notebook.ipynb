{
 "cells": [
  {
   "cell_type": "markdown",
   "source": [
    "# Titanic Survival Prediction"
   ],
   "metadata": {
    "papermill": {
     "duration": 0.061798,
     "end_time": "2021-09-17T06:05:06.974693",
     "exception": false,
     "start_time": "2021-09-17T06:05:06.912895",
     "status": "completed"
    },
    "tags": []
   }
  },
  {
   "cell_type": "markdown",
   "source": [
    "## Import Libraries"
   ],
   "metadata": {
    "papermill": {
     "duration": 0.046097,
     "end_time": "2021-09-17T06:05:07.084295",
     "exception": false,
     "start_time": "2021-09-17T06:05:07.038198",
     "status": "completed"
    },
    "tags": []
   }
  },
  {
   "cell_type": "code",
   "execution_count": 5,
   "source": [
    "import pandas as pd\r\n",
    "import numpy as np\r\n",
    "import matplotlib as mpl\r\n",
    "import matplotlib.pyplot as plt\r\n",
    "import seaborn as sns\r\n",
    "import os\r\n",
    "import pickle\r\n",
    "\r\n",
    "from sklearn.preprocessing import StandardScaler\r\n",
    "from sklearn.preprocessing import OneHotEncoder\r\n",
    "from sklearn.model_selection import train_test_split\r\n",
    "from sklearn.model_selection import GridSearchCV\r\n",
    "from sklearn.pipeline import Pipeline\r\n",
    "\r\n",
    "from sklearn.linear_model import LogisticRegression\r\n",
    "from sklearn.svm import SVC\r\n",
    "from sklearn.tree import DecisionTreeClassifier\r\n",
    "from sklearn.ensemble import RandomForestClassifier\r\n",
    "from sklearn.neighbors import KNeighborsClassifier\r\n",
    "from sklearn.ensemble import GradientBoostingClassifier\r\n",
    "import xgboost as xgb\r\n",
    "from sklearn.metrics import accuracy_score, confusion_matrix, classification_report, f1_score"
   ],
   "outputs": [],
   "metadata": {
    "execution": {
     "iopub.execute_input": "2021-09-17T06:05:07.193159Z",
     "iopub.status.busy": "2021-09-17T06:05:07.192451Z",
     "iopub.status.idle": "2021-09-17T06:05:08.581334Z",
     "shell.execute_reply": "2021-09-17T06:05:08.581902Z",
     "shell.execute_reply.started": "2021-09-17T04:58:26.924291Z"
    },
    "papermill": {
     "duration": 1.449932,
     "end_time": "2021-09-17T06:05:08.582205",
     "exception": false,
     "start_time": "2021-09-17T06:05:07.132273",
     "status": "completed"
    },
    "tags": []
   }
  },
  {
   "cell_type": "markdown",
   "source": [
    "## Data Loading"
   ],
   "metadata": {
    "papermill": {
     "duration": 0.058357,
     "end_time": "2021-09-17T06:05:08.694304",
     "exception": false,
     "start_time": "2021-09-17T06:05:08.635947",
     "status": "completed"
    },
    "tags": []
   }
  },
  {
   "cell_type": "code",
   "execution_count": 6,
   "source": [
    "df = pd.read_csv('train.csv')\r\n",
    "df.info()"
   ],
   "outputs": [
    {
     "output_type": "stream",
     "name": "stdout",
     "text": [
      "<class 'pandas.core.frame.DataFrame'>\n",
      "RangeIndex: 891 entries, 0 to 890\n",
      "Data columns (total 12 columns):\n",
      " #   Column       Non-Null Count  Dtype  \n",
      "---  ------       --------------  -----  \n",
      " 0   PassengerId  891 non-null    int64  \n",
      " 1   Survived     891 non-null    int64  \n",
      " 2   Pclass       891 non-null    int64  \n",
      " 3   Name         891 non-null    object \n",
      " 4   Sex          891 non-null    object \n",
      " 5   Age          714 non-null    float64\n",
      " 6   SibSp        891 non-null    int64  \n",
      " 7   Parch        891 non-null    int64  \n",
      " 8   Ticket       891 non-null    object \n",
      " 9   Fare         891 non-null    float64\n",
      " 10  Cabin        204 non-null    object \n",
      " 11  Embarked     889 non-null    object \n",
      "dtypes: float64(2), int64(5), object(5)\n",
      "memory usage: 83.7+ KB\n"
     ]
    }
   ],
   "metadata": {
    "execution": {
     "iopub.execute_input": "2021-09-17T06:05:08.794112Z",
     "iopub.status.busy": "2021-09-17T06:05:08.793404Z",
     "iopub.status.idle": "2021-09-17T06:05:08.831211Z",
     "shell.execute_reply": "2021-09-17T06:05:08.831687Z",
     "shell.execute_reply.started": "2021-09-17T04:58:28.264466Z"
    },
    "papermill": {
     "duration": 0.089369,
     "end_time": "2021-09-17T06:05:08.831889",
     "exception": false,
     "start_time": "2021-09-17T06:05:08.742520",
     "status": "completed"
    },
    "tags": []
   }
  },
  {
   "cell_type": "code",
   "execution_count": 7,
   "source": [
    "df.head()"
   ],
   "outputs": [
    {
     "output_type": "execute_result",
     "data": {
      "text/html": [
       "<div>\n",
       "<style scoped>\n",
       "    .dataframe tbody tr th:only-of-type {\n",
       "        vertical-align: middle;\n",
       "    }\n",
       "\n",
       "    .dataframe tbody tr th {\n",
       "        vertical-align: top;\n",
       "    }\n",
       "\n",
       "    .dataframe thead th {\n",
       "        text-align: right;\n",
       "    }\n",
       "</style>\n",
       "<table border=\"1\" class=\"dataframe\">\n",
       "  <thead>\n",
       "    <tr style=\"text-align: right;\">\n",
       "      <th></th>\n",
       "      <th>PassengerId</th>\n",
       "      <th>Survived</th>\n",
       "      <th>Pclass</th>\n",
       "      <th>Name</th>\n",
       "      <th>Sex</th>\n",
       "      <th>Age</th>\n",
       "      <th>SibSp</th>\n",
       "      <th>Parch</th>\n",
       "      <th>Ticket</th>\n",
       "      <th>Fare</th>\n",
       "      <th>Cabin</th>\n",
       "      <th>Embarked</th>\n",
       "    </tr>\n",
       "  </thead>\n",
       "  <tbody>\n",
       "    <tr>\n",
       "      <th>0</th>\n",
       "      <td>1</td>\n",
       "      <td>0</td>\n",
       "      <td>3</td>\n",
       "      <td>Braund, Mr. Owen Harris</td>\n",
       "      <td>male</td>\n",
       "      <td>22.0</td>\n",
       "      <td>1</td>\n",
       "      <td>0</td>\n",
       "      <td>A/5 21171</td>\n",
       "      <td>7.2500</td>\n",
       "      <td>NaN</td>\n",
       "      <td>S</td>\n",
       "    </tr>\n",
       "    <tr>\n",
       "      <th>1</th>\n",
       "      <td>2</td>\n",
       "      <td>1</td>\n",
       "      <td>1</td>\n",
       "      <td>Cumings, Mrs. John Bradley (Florence Briggs Th...</td>\n",
       "      <td>female</td>\n",
       "      <td>38.0</td>\n",
       "      <td>1</td>\n",
       "      <td>0</td>\n",
       "      <td>PC 17599</td>\n",
       "      <td>71.2833</td>\n",
       "      <td>C85</td>\n",
       "      <td>C</td>\n",
       "    </tr>\n",
       "    <tr>\n",
       "      <th>2</th>\n",
       "      <td>3</td>\n",
       "      <td>1</td>\n",
       "      <td>3</td>\n",
       "      <td>Heikkinen, Miss. Laina</td>\n",
       "      <td>female</td>\n",
       "      <td>26.0</td>\n",
       "      <td>0</td>\n",
       "      <td>0</td>\n",
       "      <td>STON/O2. 3101282</td>\n",
       "      <td>7.9250</td>\n",
       "      <td>NaN</td>\n",
       "      <td>S</td>\n",
       "    </tr>\n",
       "    <tr>\n",
       "      <th>3</th>\n",
       "      <td>4</td>\n",
       "      <td>1</td>\n",
       "      <td>1</td>\n",
       "      <td>Futrelle, Mrs. Jacques Heath (Lily May Peel)</td>\n",
       "      <td>female</td>\n",
       "      <td>35.0</td>\n",
       "      <td>1</td>\n",
       "      <td>0</td>\n",
       "      <td>113803</td>\n",
       "      <td>53.1000</td>\n",
       "      <td>C123</td>\n",
       "      <td>S</td>\n",
       "    </tr>\n",
       "    <tr>\n",
       "      <th>4</th>\n",
       "      <td>5</td>\n",
       "      <td>0</td>\n",
       "      <td>3</td>\n",
       "      <td>Allen, Mr. William Henry</td>\n",
       "      <td>male</td>\n",
       "      <td>35.0</td>\n",
       "      <td>0</td>\n",
       "      <td>0</td>\n",
       "      <td>373450</td>\n",
       "      <td>8.0500</td>\n",
       "      <td>NaN</td>\n",
       "      <td>S</td>\n",
       "    </tr>\n",
       "  </tbody>\n",
       "</table>\n",
       "</div>"
      ],
      "text/plain": [
       "   PassengerId  Survived  Pclass  \\\n",
       "0            1         0       3   \n",
       "1            2         1       1   \n",
       "2            3         1       3   \n",
       "3            4         1       1   \n",
       "4            5         0       3   \n",
       "\n",
       "                                                Name     Sex   Age  SibSp  \\\n",
       "0                            Braund, Mr. Owen Harris    male  22.0      1   \n",
       "1  Cumings, Mrs. John Bradley (Florence Briggs Th...  female  38.0      1   \n",
       "2                             Heikkinen, Miss. Laina  female  26.0      0   \n",
       "3       Futrelle, Mrs. Jacques Heath (Lily May Peel)  female  35.0      1   \n",
       "4                           Allen, Mr. William Henry    male  35.0      0   \n",
       "\n",
       "   Parch            Ticket     Fare Cabin Embarked  \n",
       "0      0         A/5 21171   7.2500   NaN        S  \n",
       "1      0          PC 17599  71.2833   C85        C  \n",
       "2      0  STON/O2. 3101282   7.9250   NaN        S  \n",
       "3      0            113803  53.1000  C123        S  \n",
       "4      0            373450   8.0500   NaN        S  "
      ]
     },
     "metadata": {},
     "execution_count": 7
    }
   ],
   "metadata": {
    "execution": {
     "iopub.execute_input": "2021-09-17T06:05:08.929448Z",
     "iopub.status.busy": "2021-09-17T06:05:08.928758Z",
     "iopub.status.idle": "2021-09-17T06:05:08.949745Z",
     "shell.execute_reply": "2021-09-17T06:05:08.950326Z",
     "shell.execute_reply.started": "2021-09-17T04:58:28.313343Z"
    },
    "papermill": {
     "duration": 0.073302,
     "end_time": "2021-09-17T06:05:08.950507",
     "exception": false,
     "start_time": "2021-09-17T06:05:08.877205",
     "status": "completed"
    },
    "tags": []
   }
  },
  {
   "cell_type": "markdown",
   "source": [
    "## Data Cleaning"
   ],
   "metadata": {
    "papermill": {
     "duration": 0.046733,
     "end_time": "2021-09-17T06:05:09.043599",
     "exception": false,
     "start_time": "2021-09-17T06:05:08.996866",
     "status": "completed"
    },
    "tags": []
   }
  },
  {
   "cell_type": "code",
   "execution_count": 8,
   "source": [
    "#Check duplicate values\r\n",
    "duplicate = df[df.duplicated()]\r\n",
    "duplicate"
   ],
   "outputs": [
    {
     "output_type": "execute_result",
     "data": {
      "text/html": [
       "<div>\n",
       "<style scoped>\n",
       "    .dataframe tbody tr th:only-of-type {\n",
       "        vertical-align: middle;\n",
       "    }\n",
       "\n",
       "    .dataframe tbody tr th {\n",
       "        vertical-align: top;\n",
       "    }\n",
       "\n",
       "    .dataframe thead th {\n",
       "        text-align: right;\n",
       "    }\n",
       "</style>\n",
       "<table border=\"1\" class=\"dataframe\">\n",
       "  <thead>\n",
       "    <tr style=\"text-align: right;\">\n",
       "      <th></th>\n",
       "      <th>PassengerId</th>\n",
       "      <th>Survived</th>\n",
       "      <th>Pclass</th>\n",
       "      <th>Name</th>\n",
       "      <th>Sex</th>\n",
       "      <th>Age</th>\n",
       "      <th>SibSp</th>\n",
       "      <th>Parch</th>\n",
       "      <th>Ticket</th>\n",
       "      <th>Fare</th>\n",
       "      <th>Cabin</th>\n",
       "      <th>Embarked</th>\n",
       "    </tr>\n",
       "  </thead>\n",
       "  <tbody>\n",
       "  </tbody>\n",
       "</table>\n",
       "</div>"
      ],
      "text/plain": [
       "Empty DataFrame\n",
       "Columns: [PassengerId, Survived, Pclass, Name, Sex, Age, SibSp, Parch, Ticket, Fare, Cabin, Embarked]\n",
       "Index: []"
      ]
     },
     "metadata": {},
     "execution_count": 8
    }
   ],
   "metadata": {
    "execution": {
     "iopub.execute_input": "2021-09-17T06:05:09.143353Z",
     "iopub.status.busy": "2021-09-17T06:05:09.142626Z",
     "iopub.status.idle": "2021-09-17T06:05:09.157032Z",
     "shell.execute_reply": "2021-09-17T06:05:09.156503Z",
     "shell.execute_reply.started": "2021-09-17T04:58:28.340146Z"
    },
    "papermill": {
     "duration": 0.067709,
     "end_time": "2021-09-17T06:05:09.157178",
     "exception": false,
     "start_time": "2021-09-17T06:05:09.089469",
     "status": "completed"
    },
    "tags": []
   }
  },
  {
   "cell_type": "markdown",
   "source": [
    "No duplicate values found"
   ],
   "metadata": {
    "papermill": {
     "duration": 0.046434,
     "end_time": "2021-09-17T06:05:09.249955",
     "exception": false,
     "start_time": "2021-09-17T06:05:09.203521",
     "status": "completed"
    },
    "tags": []
   }
  },
  {
   "cell_type": "code",
   "execution_count": 9,
   "source": [
    "#Check missing values\r\n",
    "df.isnull().sum()"
   ],
   "outputs": [
    {
     "output_type": "execute_result",
     "data": {
      "text/plain": [
       "PassengerId      0\n",
       "Survived         0\n",
       "Pclass           0\n",
       "Name             0\n",
       "Sex              0\n",
       "Age            177\n",
       "SibSp            0\n",
       "Parch            0\n",
       "Ticket           0\n",
       "Fare             0\n",
       "Cabin          687\n",
       "Embarked         2\n",
       "dtype: int64"
      ]
     },
     "metadata": {},
     "execution_count": 9
    }
   ],
   "metadata": {
    "execution": {
     "iopub.execute_input": "2021-09-17T06:05:09.346892Z",
     "iopub.status.busy": "2021-09-17T06:05:09.345898Z",
     "iopub.status.idle": "2021-09-17T06:05:09.354281Z",
     "shell.execute_reply": "2021-09-17T06:05:09.354846Z",
     "shell.execute_reply.started": "2021-09-17T04:58:28.360098Z"
    },
    "papermill": {
     "duration": 0.058743,
     "end_time": "2021-09-17T06:05:09.355016",
     "exception": false,
     "start_time": "2021-09-17T06:05:09.296273",
     "status": "completed"
    },
    "tags": []
   }
  },
  {
   "cell_type": "code",
   "execution_count": 10,
   "source": [
    "#Check Percentage of Missing values\r\n",
    "df.isnull().sum() * 100 /len(df)"
   ],
   "outputs": [
    {
     "output_type": "execute_result",
     "data": {
      "text/plain": [
       "PassengerId     0.000000\n",
       "Survived        0.000000\n",
       "Pclass          0.000000\n",
       "Name            0.000000\n",
       "Sex             0.000000\n",
       "Age            19.865320\n",
       "SibSp           0.000000\n",
       "Parch           0.000000\n",
       "Ticket          0.000000\n",
       "Fare            0.000000\n",
       "Cabin          77.104377\n",
       "Embarked        0.224467\n",
       "dtype: float64"
      ]
     },
     "metadata": {},
     "execution_count": 10
    }
   ],
   "metadata": {
    "execution": {
     "iopub.execute_input": "2021-09-17T06:05:09.452945Z",
     "iopub.status.busy": "2021-09-17T06:05:09.452254Z",
     "iopub.status.idle": "2021-09-17T06:05:09.461868Z",
     "shell.execute_reply": "2021-09-17T06:05:09.461284Z",
     "shell.execute_reply.started": "2021-09-17T04:58:28.375105Z"
    },
    "papermill": {
     "duration": 0.059806,
     "end_time": "2021-09-17T06:05:09.462023",
     "exception": false,
     "start_time": "2021-09-17T06:05:09.402217",
     "status": "completed"
    },
    "tags": []
   }
  },
  {
   "cell_type": "code",
   "execution_count": 11,
   "source": [
    "#Cabin Feature will be dropped because the missing values is 77% of all data\r\n",
    "df_cleaned = df.drop(columns=['Cabin'],axis=1)\r\n",
    "#Age Feature will be imputed using Median\r\n",
    "df_cleaned['Age'].fillna(df_cleaned['Age'].median(), inplace = True)\r\n",
    "#Embarked Feature will be imputed using Mode\r\n",
    "df_cleaned['Embarked'].fillna(df_cleaned['Embarked'].mode()[0], inplace = True)\r\n"
   ],
   "outputs": [],
   "metadata": {
    "execution": {
     "iopub.execute_input": "2021-09-17T06:05:09.568228Z",
     "iopub.status.busy": "2021-09-17T06:05:09.567559Z",
     "iopub.status.idle": "2021-09-17T06:05:09.570660Z",
     "shell.execute_reply": "2021-09-17T06:05:09.570115Z",
     "shell.execute_reply.started": "2021-09-17T04:58:28.388455Z"
    },
    "papermill": {
     "duration": 0.06209,
     "end_time": "2021-09-17T06:05:09.570884",
     "exception": false,
     "start_time": "2021-09-17T06:05:09.508794",
     "status": "completed"
    },
    "tags": []
   }
  },
  {
   "cell_type": "code",
   "execution_count": 12,
   "source": [
    "#Recheck the missing values\r\n",
    "df_cleaned.isnull().sum()"
   ],
   "outputs": [
    {
     "output_type": "execute_result",
     "data": {
      "text/plain": [
       "PassengerId    0\n",
       "Survived       0\n",
       "Pclass         0\n",
       "Name           0\n",
       "Sex            0\n",
       "Age            0\n",
       "SibSp          0\n",
       "Parch          0\n",
       "Ticket         0\n",
       "Fare           0\n",
       "Embarked       0\n",
       "dtype: int64"
      ]
     },
     "metadata": {},
     "execution_count": 12
    }
   ],
   "metadata": {
    "execution": {
     "iopub.execute_input": "2021-09-17T06:05:09.674917Z",
     "iopub.status.busy": "2021-09-17T06:05:09.674222Z",
     "iopub.status.idle": "2021-09-17T06:05:09.676689Z",
     "shell.execute_reply": "2021-09-17T06:05:09.677171Z",
     "shell.execute_reply.started": "2021-09-17T04:58:28.401494Z"
    },
    "papermill": {
     "duration": 0.058998,
     "end_time": "2021-09-17T06:05:09.677330",
     "exception": false,
     "start_time": "2021-09-17T06:05:09.618332",
     "status": "completed"
    },
    "tags": []
   }
  },
  {
   "cell_type": "markdown",
   "source": [
    "## Data Exploration"
   ],
   "metadata": {
    "papermill": {
     "duration": 0.046356,
     "end_time": "2021-09-17T06:05:09.771297",
     "exception": false,
     "start_time": "2021-09-17T06:05:09.724941",
     "status": "completed"
    },
    "tags": []
   }
  },
  {
   "cell_type": "code",
   "execution_count": 13,
   "source": [
    "#Explore the Survived Feature\r\n",
    "print(df_cleaned.Survived.value_counts())\r\n",
    "print(df_cleaned.Survived.value_counts()*100/len(df_cleaned))\r\n",
    "df_cleaned.Survived.value_counts().plot(kind = 'pie',autopct='%1.1f%%')\r\n"
   ],
   "outputs": [
    {
     "output_type": "stream",
     "name": "stdout",
     "text": [
      "0    549\n",
      "1    342\n",
      "Name: Survived, dtype: int64\n",
      "0    61.616162\n",
      "1    38.383838\n",
      "Name: Survived, dtype: float64\n"
     ]
    },
    {
     "output_type": "execute_result",
     "data": {
      "text/plain": [
       "<AxesSubplot:ylabel='Survived'>"
      ]
     },
     "metadata": {},
     "execution_count": 13
    },
    {
     "output_type": "display_data",
     "data": {
      "image/png": "[encoded data removed]",
      "text/plain": [
       "<Figure size 432x288 with 1 Axes>"
      ]
     },
     "metadata": {}
    }
   ],
   "metadata": {
    "execution": {
     "iopub.execute_input": "2021-09-17T06:05:09.876541Z",
     "iopub.status.busy": "2021-09-17T06:05:09.875833Z",
     "iopub.status.idle": "2021-09-17T06:05:10.029122Z",
     "shell.execute_reply": "2021-09-17T06:05:10.029639Z",
     "shell.execute_reply.started": "2021-09-17T04:58:28.415364Z"
    },
    "papermill": {
     "duration": 0.210749,
     "end_time": "2021-09-17T06:05:10.029823",
     "exception": false,
     "start_time": "2021-09-17T06:05:09.819074",
     "status": "completed"
    },
    "tags": []
   }
  },
  {
   "cell_type": "markdown",
   "source": [
    "From the total data, there are 38.4% of passengers who survived, and the rest 61.6% did not survive."
   ],
   "metadata": {
    "papermill": {
     "duration": 0.048817,
     "end_time": "2021-09-17T06:05:10.128671",
     "exception": false,
     "start_time": "2021-09-17T06:05:10.079854",
     "status": "completed"
    },
    "tags": []
   }
  },
  {
   "cell_type": "code",
   "execution_count": 14,
   "source": [
    "#Explore the Pclass Feature\r\n",
    "pclass = df_cleaned.groupby(['Pclass','Survived']).size().reset_index(name='Count')\r\n",
    "pclass['percentage_pclass'] = pclass['Count'].div(pclass.groupby('Pclass')['Count'].transform('sum')).mul(100)\r\n",
    "print (pclass)\r\n",
    "sns.countplot(data=df_cleaned, x=\"Pclass\", hue=\"Survived\" , palette=\"Blues\").tick_params(axis='x', labelrotation=45)\r\n",
    "plt.show()\r\n"
   ],
   "outputs": [
    {
     "output_type": "stream",
     "name": "stdout",
     "text": [
      "   Pclass  Survived  Count  percentage_pclass\n",
      "0       1         0     80          37.037037\n",
      "1       1         1    136          62.962963\n",
      "2       2         0     97          52.717391\n",
      "3       2         1     87          47.282609\n",
      "4       3         0    372          75.763747\n",
      "5       3         1    119          24.236253\n"
     ]
    },
    {
     "output_type": "display_data",
     "data": {
      "image/png": "[encoded data removed]",
      "text/plain": [
       "<Figure size 432x288 with 1 Axes>"
      ]
     },
     "metadata": {
      "needs_background": "light"
     }
    }
   ],
   "metadata": {
    "execution": {
     "iopub.execute_input": "2021-09-17T06:05:10.229890Z",
     "iopub.status.busy": "2021-09-17T06:05:10.229146Z",
     "iopub.status.idle": "2021-09-17T06:05:10.484890Z",
     "shell.execute_reply": "2021-09-17T06:05:10.484353Z",
     "shell.execute_reply.started": "2021-09-17T04:58:28.596516Z"
    },
    "papermill": {
     "duration": 0.307644,
     "end_time": "2021-09-17T06:05:10.485037",
     "exception": false,
     "start_time": "2021-09-17T06:05:10.177393",
     "status": "completed"
    },
    "tags": []
   }
  },
  {
   "cell_type": "markdown",
   "source": [
    "From the Pclass exploration, we gained insight:\n",
    "1. Class 1 has the highest survival rate, 62% of all the class 1 passengers survived\n",
    "2. Class 3 has the lowest survival rate, which is only 24% of all the class 3 passengers survived"
   ],
   "metadata": {
    "papermill": {
     "duration": 0.049011,
     "end_time": "2021-09-17T06:05:10.583494",
     "exception": false,
     "start_time": "2021-09-17T06:05:10.534483",
     "status": "completed"
    },
    "tags": []
   }
  },
  {
   "cell_type": "code",
   "execution_count": 15,
   "source": [
    "#Explore the Sex Feature\r\n",
    "sex = df_cleaned.groupby(['Sex','Survived']).size().reset_index(name='Count')\r\n",
    "sex['percentage_sex'] = sex['Count'].div(sex.groupby('Sex')['Count'].transform('sum')).mul(100)\r\n",
    "print (sex)\r\n",
    "sns.countplot(data=df_cleaned, x=\"Sex\", hue=\"Survived\" , palette=\"Blues\").tick_params(axis='x', labelrotation=45)\r\n",
    "plt.show()\r\n"
   ],
   "outputs": [
    {
     "output_type": "stream",
     "name": "stdout",
     "text": [
      "      Sex  Survived  Count  percentage_sex\n",
      "0  female         0     81       25.796178\n",
      "1  female         1    233       74.203822\n",
      "2    male         0    468       81.109185\n",
      "3    male         1    109       18.890815\n"
     ]
    },
    {
     "output_type": "display_data",
     "data": {
      "image/png": "[encoded data removed]",
      "text/plain": [
       "<Figure size 432x288 with 1 Axes>"
      ]
     },
     "metadata": {
      "needs_background": "light"
     }
    }
   ],
   "metadata": {
    "execution": {
     "iopub.execute_input": "2021-09-17T06:05:10.687392Z",
     "iopub.status.busy": "2021-09-17T06:05:10.686419Z",
     "iopub.status.idle": "2021-09-17T06:05:10.985791Z",
     "shell.execute_reply": "2021-09-17T06:05:10.986398Z",
     "shell.execute_reply.started": "2021-09-17T04:58:28.911037Z"
    },
    "papermill": {
     "duration": 0.35339,
     "end_time": "2021-09-17T06:05:10.986576",
     "exception": false,
     "start_time": "2021-09-17T06:05:10.633186",
     "status": "completed"
    },
    "tags": []
   }
  },
  {
   "cell_type": "markdown",
   "source": [
    "From the Sex feature exploration, we gained insight:\n",
    "1. Female has the highest survival rate, 74% of all the female passengers survived\n",
    "2. Male has the lowest survival rate, which is only 18% of all the male passengers survived"
   ],
   "metadata": {
    "papermill": {
     "duration": 0.051255,
     "end_time": "2021-09-17T06:05:11.089341",
     "exception": false,
     "start_time": "2021-09-17T06:05:11.038086",
     "status": "completed"
    },
    "tags": []
   }
  },
  {
   "cell_type": "code",
   "execution_count": 16,
   "source": [
    "#Explore the Embarked Feature\r\n",
    "embark = df_cleaned.groupby(['Embarked','Survived']).size().reset_index(name='Count')\r\n",
    "embark['percentage_pclass'] = embark['Count'].div(embark.groupby('Embarked')['Count'].transform('sum')).mul(100)\r\n",
    "print (embark)\r\n",
    "sns.countplot(data=df_cleaned, x=\"Embarked\", hue=\"Survived\" , palette=\"Blues\").tick_params(axis='x', labelrotation=45)\r\n",
    "plt.show()\r\n"
   ],
   "outputs": [
    {
     "output_type": "stream",
     "name": "stdout",
     "text": [
      "  Embarked  Survived  Count  percentage_pclass\n",
      "0        C         0     75          44.642857\n",
      "1        C         1     93          55.357143\n",
      "2        Q         0     47          61.038961\n",
      "3        Q         1     30          38.961039\n",
      "4        S         0    427          66.099071\n",
      "5        S         1    219          33.900929\n"
     ]
    },
    {
     "output_type": "display_data",
     "data": {
      "image/png": "[encoded data removed]",
      "text/plain": [
       "<Figure size 432x288 with 1 Axes>"
      ]
     },
     "metadata": {
      "needs_background": "light"
     }
    }
   ],
   "metadata": {
    "execution": {
     "iopub.execute_input": "2021-09-17T06:05:11.198836Z",
     "iopub.status.busy": "2021-09-17T06:05:11.198167Z",
     "iopub.status.idle": "2021-09-17T06:05:11.387265Z",
     "shell.execute_reply": "2021-09-17T06:05:11.387724Z",
     "shell.execute_reply.started": "2021-09-17T04:58:29.087860Z"
    },
    "papermill": {
     "duration": 0.247666,
     "end_time": "2021-09-17T06:05:11.387913",
     "exception": false,
     "start_time": "2021-09-17T06:05:11.140247",
     "status": "completed"
    },
    "tags": []
   }
  },
  {
   "cell_type": "markdown",
   "source": [
    "From the Embarked feature exploration, we gained insight:\n",
    "1. Passengers who embarked from C the highest survival rate, 55% of all the passengers who embarked from C survived\n",
    "2. Passengers who embarked from S the lowest survival rate, 33% of all the passengers who embarked from S survived"
   ],
   "metadata": {
    "papermill": {
     "duration": 0.051015,
     "end_time": "2021-09-17T06:05:11.492019",
     "exception": false,
     "start_time": "2021-09-17T06:05:11.441004",
     "status": "completed"
    },
    "tags": []
   }
  },
  {
   "cell_type": "code",
   "execution_count": 17,
   "source": [
    "survived = df_cleaned[df_cleaned[\"Survived\"]==1] \r\n",
    "notsurvived = df_cleaned[df_cleaned[\"Survived\"]==0] \r\n"
   ],
   "outputs": [],
   "metadata": {
    "execution": {
     "iopub.execute_input": "2021-09-17T06:05:11.598482Z",
     "iopub.status.busy": "2021-09-17T06:05:11.597850Z",
     "iopub.status.idle": "2021-09-17T06:05:11.603468Z",
     "shell.execute_reply": "2021-09-17T06:05:11.604026Z",
     "shell.execute_reply.started": "2021-09-17T04:58:29.355904Z"
    },
    "papermill": {
     "duration": 0.060718,
     "end_time": "2021-09-17T06:05:11.604200",
     "exception": false,
     "start_time": "2021-09-17T06:05:11.543482",
     "status": "completed"
    },
    "tags": []
   }
  },
  {
   "cell_type": "code",
   "execution_count": 18,
   "source": [
    "#Explore Fare Feature\r\n",
    "print (survived.Fare.describe())\r\n",
    "print (notsurvived.Fare.describe())"
   ],
   "outputs": [
    {
     "output_type": "stream",
     "name": "stdout",
     "text": [
      "count    342.000000\n",
      "mean      48.395408\n",
      "std       66.596998\n",
      "min        0.000000\n",
      "25%       12.475000\n",
      "50%       26.000000\n",
      "75%       57.000000\n",
      "max      512.329200\n",
      "Name: Fare, dtype: float64\n",
      "count    549.000000\n",
      "mean      22.117887\n",
      "std       31.388207\n",
      "min        0.000000\n",
      "25%        7.854200\n",
      "50%       10.500000\n",
      "75%       26.000000\n",
      "max      263.000000\n",
      "Name: Fare, dtype: float64\n"
     ]
    }
   ],
   "metadata": {
    "execution": {
     "iopub.execute_input": "2021-09-17T06:05:11.714578Z",
     "iopub.status.busy": "2021-09-17T06:05:11.711071Z",
     "iopub.status.idle": "2021-09-17T06:05:11.724432Z",
     "shell.execute_reply": "2021-09-17T06:05:11.725175Z",
     "shell.execute_reply.started": "2021-09-17T04:58:29.368138Z"
    },
    "papermill": {
     "duration": 0.0697,
     "end_time": "2021-09-17T06:05:11.725397",
     "exception": false,
     "start_time": "2021-09-17T06:05:11.655697",
     "status": "completed"
    },
    "tags": []
   }
  },
  {
   "cell_type": "markdown",
   "source": [
    "From the Fare feature exploration, we gain insight that the average fare of the survived passengers is more expensive than the average fare of the passengers who did not survive"
   ],
   "metadata": {
    "papermill": {
     "duration": 0.052061,
     "end_time": "2021-09-17T06:05:11.830361",
     "exception": false,
     "start_time": "2021-09-17T06:05:11.778300",
     "status": "completed"
    },
    "tags": []
   }
  },
  {
   "cell_type": "code",
   "execution_count": 19,
   "source": [
    "#Explore Age Feature\r\n",
    "print (survived.Age.describe())\r\n",
    "print (notsurvived.Age.describe())"
   ],
   "outputs": [
    {
     "output_type": "stream",
     "name": "stdout",
     "text": [
      "count    342.000000\n",
      "mean      28.291433\n",
      "std       13.764425\n",
      "min        0.420000\n",
      "25%       21.000000\n",
      "50%       28.000000\n",
      "75%       35.000000\n",
      "max       80.000000\n",
      "Name: Age, dtype: float64\n",
      "count    549.000000\n",
      "mean      30.028233\n",
      "std       12.499986\n",
      "min        1.000000\n",
      "25%       23.000000\n",
      "50%       28.000000\n",
      "75%       35.000000\n",
      "max       74.000000\n",
      "Name: Age, dtype: float64\n"
     ]
    }
   ],
   "metadata": {
    "execution": {
     "iopub.execute_input": "2021-09-17T06:05:11.944579Z",
     "iopub.status.busy": "2021-09-17T06:05:11.941304Z",
     "iopub.status.idle": "2021-09-17T06:05:11.949266Z",
     "shell.execute_reply": "2021-09-17T06:05:11.949983Z",
     "shell.execute_reply.started": "2021-09-17T04:58:29.390669Z"
    },
    "papermill": {
     "duration": 0.067309,
     "end_time": "2021-09-17T06:05:11.950202",
     "exception": false,
     "start_time": "2021-09-17T06:05:11.882893",
     "status": "completed"
    },
    "tags": []
   }
  },
  {
   "cell_type": "markdown",
   "source": [
    "From the age feature exploration, we conclude that there is no significant difference of age between the passengers who survived and not survived"
   ],
   "metadata": {
    "papermill": {
     "duration": 0.051804,
     "end_time": "2021-09-17T06:05:12.054907",
     "exception": false,
     "start_time": "2021-09-17T06:05:12.003103",
     "status": "completed"
    },
    "tags": []
   }
  },
  {
   "cell_type": "markdown",
   "source": [
    "## Data Preprocessing"
   ],
   "metadata": {
    "papermill": {
     "duration": 0.052792,
     "end_time": "2021-09-17T06:05:12.160860",
     "exception": false,
     "start_time": "2021-09-17T06:05:12.108068",
     "status": "completed"
    },
    "tags": []
   }
  },
  {
   "cell_type": "code",
   "execution_count": 20,
   "source": [
    "#Check the types of each feature\r\n",
    "df_cleaned.dtypes"
   ],
   "outputs": [
    {
     "output_type": "execute_result",
     "data": {
      "text/plain": [
       "PassengerId      int64\n",
       "Survived         int64\n",
       "Pclass           int64\n",
       "Name            object\n",
       "Sex             object\n",
       "Age            float64\n",
       "SibSp            int64\n",
       "Parch            int64\n",
       "Ticket          object\n",
       "Fare           float64\n",
       "Embarked        object\n",
       "dtype: object"
      ]
     },
     "metadata": {},
     "execution_count": 20
    }
   ],
   "metadata": {
    "execution": {
     "iopub.execute_input": "2021-09-17T06:05:12.268966Z",
     "iopub.status.busy": "2021-09-17T06:05:12.268289Z",
     "iopub.status.idle": "2021-09-17T06:05:12.274045Z",
     "shell.execute_reply": "2021-09-17T06:05:12.274479Z",
     "shell.execute_reply.started": "2021-09-17T04:58:29.414084Z"
    },
    "papermill": {
     "duration": 0.061551,
     "end_time": "2021-09-17T06:05:12.274660",
     "exception": false,
     "start_time": "2021-09-17T06:05:12.213109",
     "status": "completed"
    },
    "tags": []
   }
  },
  {
   "cell_type": "code",
   "execution_count": 21,
   "source": [
    "#Dropping the Name and Ticket Feature as we will not use it\r\n",
    "df_preprocessed = df_cleaned.drop(columns=['Name','Ticket','PassengerId'],axis=1)"
   ],
   "outputs": [],
   "metadata": {
    "execution": {
     "iopub.execute_input": "2021-09-17T06:05:12.383551Z",
     "iopub.status.busy": "2021-09-17T06:05:12.382874Z",
     "iopub.status.idle": "2021-09-17T06:05:12.387384Z",
     "shell.execute_reply": "2021-09-17T06:05:12.387845Z",
     "shell.execute_reply.started": "2021-09-17T04:58:29.424179Z"
    },
    "papermill": {
     "duration": 0.060249,
     "end_time": "2021-09-17T06:05:12.388020",
     "exception": false,
     "start_time": "2021-09-17T06:05:12.327771",
     "status": "completed"
    },
    "tags": []
   }
  },
  {
   "cell_type": "code",
   "execution_count": 22,
   "source": [
    "#Define categorical features\r\n",
    "categorical = ['Sex','Embarked']"
   ],
   "outputs": [],
   "metadata": {
    "execution": {
     "iopub.execute_input": "2021-09-17T06:05:12.497902Z",
     "iopub.status.busy": "2021-09-17T06:05:12.497251Z",
     "iopub.status.idle": "2021-09-17T06:05:12.500317Z",
     "shell.execute_reply": "2021-09-17T06:05:12.500791Z",
     "shell.execute_reply.started": "2021-09-17T04:58:29.434947Z"
    },
    "papermill": {
     "duration": 0.058849,
     "end_time": "2021-09-17T06:05:12.501033",
     "exception": false,
     "start_time": "2021-09-17T06:05:12.442184",
     "status": "completed"
    },
    "tags": []
   }
  },
  {
   "cell_type": "code",
   "execution_count": 23,
   "source": [
    "#Define the One Hot Encoder\r\n",
    "ohe = OneHotEncoder(handle_unknown='ignore', sparse = False)"
   ],
   "outputs": [],
   "metadata": {
    "execution": {
     "iopub.execute_input": "2021-09-17T06:05:12.610870Z",
     "iopub.status.busy": "2021-09-17T06:05:12.610167Z",
     "iopub.status.idle": "2021-09-17T06:05:12.613268Z",
     "shell.execute_reply": "2021-09-17T06:05:12.613713Z",
     "shell.execute_reply.started": "2021-09-17T04:58:29.447120Z"
    },
    "papermill": {
     "duration": 0.059616,
     "end_time": "2021-09-17T06:05:12.613907",
     "exception": false,
     "start_time": "2021-09-17T06:05:12.554291",
     "status": "completed"
    },
    "tags": []
   }
  },
  {
   "cell_type": "code",
   "execution_count": 24,
   "source": [
    "# Aplikasi One Hot Encoder pada data\r\n",
    "ohe.fit(df_preprocessed[categorical])\r\n",
    "cat_ohe = ohe.transform(df_preprocessed[categorical])"
   ],
   "outputs": [],
   "metadata": {
    "execution": {
     "iopub.execute_input": "2021-09-17T06:05:12.724513Z",
     "iopub.status.busy": "2021-09-17T06:05:12.723857Z",
     "iopub.status.idle": "2021-09-17T06:05:12.731551Z",
     "shell.execute_reply": "2021-09-17T06:05:12.732043Z",
     "shell.execute_reply.started": "2021-09-17T04:58:29.459024Z"
    },
    "papermill": {
     "duration": 0.064594,
     "end_time": "2021-09-17T06:05:12.732222",
     "exception": false,
     "start_time": "2021-09-17T06:05:12.667628",
     "status": "completed"
    },
    "tags": []
   }
  },
  {
   "cell_type": "code",
   "execution_count": 25,
   "source": [
    "#Making DataFrame from encoded feature\r\n",
    "ohe_df = pd.DataFrame(cat_ohe, columns = ohe.get_feature_names(input_features = categorical))\r\n",
    "#Penggabungan original data dengan dataframe encoded\r\n",
    "df_encoded = pd.concat([df_preprocessed, ohe_df], axis=1).drop(columns = categorical, axis=1)"
   ],
   "outputs": [],
   "metadata": {
    "execution": {
     "iopub.execute_input": "2021-09-17T06:05:12.840228Z",
     "iopub.status.busy": "2021-09-17T06:05:12.839564Z",
     "iopub.status.idle": "2021-09-17T06:05:12.847262Z",
     "shell.execute_reply": "2021-09-17T06:05:12.847747Z",
     "shell.execute_reply.started": "2021-09-17T04:58:29.473835Z"
    },
    "papermill": {
     "duration": 0.063515,
     "end_time": "2021-09-17T06:05:12.847952",
     "exception": false,
     "start_time": "2021-09-17T06:05:12.784437",
     "status": "completed"
    },
    "tags": []
   }
  },
  {
   "cell_type": "code",
   "execution_count": 26,
   "source": [
    "#Check the encoded dataframe\r\n",
    "df_encoded"
   ],
   "outputs": [
    {
     "output_type": "execute_result",
     "data": {
      "text/html": [
       "<div>\n",
       "<style scoped>\n",
       "    .dataframe tbody tr th:only-of-type {\n",
       "        vertical-align: middle;\n",
       "    }\n",
       "\n",
       "    .dataframe tbody tr th {\n",
       "        vertical-align: top;\n",
       "    }\n",
       "\n",
       "    .dataframe thead th {\n",
       "        text-align: right;\n",
       "    }\n",
       "</style>\n",
       "<table border=\"1\" class=\"dataframe\">\n",
       "  <thead>\n",
       "    <tr style=\"text-align: right;\">\n",
       "      <th></th>\n",
       "      <th>Survived</th>\n",
       "      <th>Pclass</th>\n",
       "      <th>Age</th>\n",
       "      <th>SibSp</th>\n",
       "      <th>Parch</th>\n",
       "      <th>Fare</th>\n",
       "      <th>Sex_female</th>\n",
       "      <th>Sex_male</th>\n",
       "      <th>Embarked_C</th>\n",
       "      <th>Embarked_Q</th>\n",
       "      <th>Embarked_S</th>\n",
       "    </tr>\n",
       "  </thead>\n",
       "  <tbody>\n",
       "    <tr>\n",
       "      <th>0</th>\n",
       "      <td>0</td>\n",
       "      <td>3</td>\n",
       "      <td>22.0</td>\n",
       "      <td>1</td>\n",
       "      <td>0</td>\n",
       "      <td>7.2500</td>\n",
       "      <td>0.0</td>\n",
       "      <td>1.0</td>\n",
       "      <td>0.0</td>\n",
       "      <td>0.0</td>\n",
       "      <td>1.0</td>\n",
       "    </tr>\n",
       "    <tr>\n",
       "      <th>1</th>\n",
       "      <td>1</td>\n",
       "      <td>1</td>\n",
       "      <td>38.0</td>\n",
       "      <td>1</td>\n",
       "      <td>0</td>\n",
       "      <td>71.2833</td>\n",
       "      <td>1.0</td>\n",
       "      <td>0.0</td>\n",
       "      <td>1.0</td>\n",
       "      <td>0.0</td>\n",
       "      <td>0.0</td>\n",
       "    </tr>\n",
       "    <tr>\n",
       "      <th>2</th>\n",
       "      <td>1</td>\n",
       "      <td>3</td>\n",
       "      <td>26.0</td>\n",
       "      <td>0</td>\n",
       "      <td>0</td>\n",
       "      <td>7.9250</td>\n",
       "      <td>1.0</td>\n",
       "      <td>0.0</td>\n",
       "      <td>0.0</td>\n",
       "      <td>0.0</td>\n",
       "      <td>1.0</td>\n",
       "    </tr>\n",
       "    <tr>\n",
       "      <th>3</th>\n",
       "      <td>1</td>\n",
       "      <td>1</td>\n",
       "      <td>35.0</td>\n",
       "      <td>1</td>\n",
       "      <td>0</td>\n",
       "      <td>53.1000</td>\n",
       "      <td>1.0</td>\n",
       "      <td>0.0</td>\n",
       "      <td>0.0</td>\n",
       "      <td>0.0</td>\n",
       "      <td>1.0</td>\n",
       "    </tr>\n",
       "    <tr>\n",
       "      <th>4</th>\n",
       "      <td>0</td>\n",
       "      <td>3</td>\n",
       "      <td>35.0</td>\n",
       "      <td>0</td>\n",
       "      <td>0</td>\n",
       "      <td>8.0500</td>\n",
       "      <td>0.0</td>\n",
       "      <td>1.0</td>\n",
       "      <td>0.0</td>\n",
       "      <td>0.0</td>\n",
       "      <td>1.0</td>\n",
       "    </tr>\n",
       "    <tr>\n",
       "      <th>...</th>\n",
       "      <td>...</td>\n",
       "      <td>...</td>\n",
       "      <td>...</td>\n",
       "      <td>...</td>\n",
       "      <td>...</td>\n",
       "      <td>...</td>\n",
       "      <td>...</td>\n",
       "      <td>...</td>\n",
       "      <td>...</td>\n",
       "      <td>...</td>\n",
       "      <td>...</td>\n",
       "    </tr>\n",
       "    <tr>\n",
       "      <th>886</th>\n",
       "      <td>0</td>\n",
       "      <td>2</td>\n",
       "      <td>27.0</td>\n",
       "      <td>0</td>\n",
       "      <td>0</td>\n",
       "      <td>13.0000</td>\n",
       "      <td>0.0</td>\n",
       "      <td>1.0</td>\n",
       "      <td>0.0</td>\n",
       "      <td>0.0</td>\n",
       "      <td>1.0</td>\n",
       "    </tr>\n",
       "    <tr>\n",
       "      <th>887</th>\n",
       "      <td>1</td>\n",
       "      <td>1</td>\n",
       "      <td>19.0</td>\n",
       "      <td>0</td>\n",
       "      <td>0</td>\n",
       "      <td>30.0000</td>\n",
       "      <td>1.0</td>\n",
       "      <td>0.0</td>\n",
       "      <td>0.0</td>\n",
       "      <td>0.0</td>\n",
       "      <td>1.0</td>\n",
       "    </tr>\n",
       "    <tr>\n",
       "      <th>888</th>\n",
       "      <td>0</td>\n",
       "      <td>3</td>\n",
       "      <td>28.0</td>\n",
       "      <td>1</td>\n",
       "      <td>2</td>\n",
       "      <td>23.4500</td>\n",
       "      <td>1.0</td>\n",
       "      <td>0.0</td>\n",
       "      <td>0.0</td>\n",
       "      <td>0.0</td>\n",
       "      <td>1.0</td>\n",
       "    </tr>\n",
       "    <tr>\n",
       "      <th>889</th>\n",
       "      <td>1</td>\n",
       "      <td>1</td>\n",
       "      <td>26.0</td>\n",
       "      <td>0</td>\n",
       "      <td>0</td>\n",
       "      <td>30.0000</td>\n",
       "      <td>0.0</td>\n",
       "      <td>1.0</td>\n",
       "      <td>1.0</td>\n",
       "      <td>0.0</td>\n",
       "      <td>0.0</td>\n",
       "    </tr>\n",
       "    <tr>\n",
       "      <th>890</th>\n",
       "      <td>0</td>\n",
       "      <td>3</td>\n",
       "      <td>32.0</td>\n",
       "      <td>0</td>\n",
       "      <td>0</td>\n",
       "      <td>7.7500</td>\n",
       "      <td>0.0</td>\n",
       "      <td>1.0</td>\n",
       "      <td>0.0</td>\n",
       "      <td>1.0</td>\n",
       "      <td>0.0</td>\n",
       "    </tr>\n",
       "  </tbody>\n",
       "</table>\n",
       "<p>891 rows × 11 columns</p>\n",
       "</div>"
      ],
      "text/plain": [
       "     Survived  Pclass   Age  SibSp  Parch     Fare  Sex_female  Sex_male  \\\n",
       "0           0       3  22.0      1      0   7.2500         0.0       1.0   \n",
       "1           1       1  38.0      1      0  71.2833         1.0       0.0   \n",
       "2           1       3  26.0      0      0   7.9250         1.0       0.0   \n",
       "3           1       1  35.0      1      0  53.1000         1.0       0.0   \n",
       "4           0       3  35.0      0      0   8.0500         0.0       1.0   \n",
       "..        ...     ...   ...    ...    ...      ...         ...       ...   \n",
       "886         0       2  27.0      0      0  13.0000         0.0       1.0   \n",
       "887         1       1  19.0      0      0  30.0000         1.0       0.0   \n",
       "888         0       3  28.0      1      2  23.4500         1.0       0.0   \n",
       "889         1       1  26.0      0      0  30.0000         0.0       1.0   \n",
       "890         0       3  32.0      0      0   7.7500         0.0       1.0   \n",
       "\n",
       "     Embarked_C  Embarked_Q  Embarked_S  \n",
       "0           0.0         0.0         1.0  \n",
       "1           1.0         0.0         0.0  \n",
       "2           0.0         0.0         1.0  \n",
       "3           0.0         0.0         1.0  \n",
       "4           0.0         0.0         1.0  \n",
       "..          ...         ...         ...  \n",
       "886         0.0         0.0         1.0  \n",
       "887         0.0         0.0         1.0  \n",
       "888         0.0         0.0         1.0  \n",
       "889         1.0         0.0         0.0  \n",
       "890         0.0         1.0         0.0  \n",
       "\n",
       "[891 rows x 11 columns]"
      ]
     },
     "metadata": {},
     "execution_count": 26
    }
   ],
   "metadata": {
    "execution": {
     "iopub.execute_input": "2021-09-17T06:05:12.957459Z",
     "iopub.status.busy": "2021-09-17T06:05:12.956773Z",
     "iopub.status.idle": "2021-09-17T06:05:12.985155Z",
     "shell.execute_reply": "2021-09-17T06:05:12.984484Z",
     "shell.execute_reply.started": "2021-09-17T04:58:29.489600Z"
    },
    "papermill": {
     "duration": 0.08418,
     "end_time": "2021-09-17T06:05:12.985334",
     "exception": false,
     "start_time": "2021-09-17T06:05:12.901154",
     "status": "completed"
    },
    "tags": []
   }
  },
  {
   "cell_type": "code",
   "execution_count": 27,
   "source": [
    "#Define X dan Y\r\n",
    "y = df_encoded['Survived'].values\r\n",
    "X = df_encoded.drop(columns=['Survived'],axis=1).values"
   ],
   "outputs": [],
   "metadata": {
    "execution": {
     "iopub.execute_input": "2021-09-17T06:05:13.103435Z",
     "iopub.status.busy": "2021-09-17T06:05:13.102585Z",
     "iopub.status.idle": "2021-09-17T06:05:13.105561Z",
     "shell.execute_reply": "2021-09-17T06:05:13.105074Z",
     "shell.execute_reply.started": "2021-09-17T04:58:29.530275Z"
    },
    "papermill": {
     "duration": 0.062253,
     "end_time": "2021-09-17T06:05:13.105703",
     "exception": false,
     "start_time": "2021-09-17T06:05:13.043450",
     "status": "completed"
    },
    "tags": []
   }
  },
  {
   "cell_type": "code",
   "execution_count": 28,
   "source": [
    "#Train/Test Split\r\n",
    "X_train, X_test, y_train, y_test = train_test_split(X, y, test_size=0.20, random_state=42)"
   ],
   "outputs": [],
   "metadata": {
    "execution": {
     "iopub.execute_input": "2021-09-17T06:05:13.216689Z",
     "iopub.status.busy": "2021-09-17T06:05:13.215672Z",
     "iopub.status.idle": "2021-09-17T06:05:13.223320Z",
     "shell.execute_reply": "2021-09-17T06:05:13.222770Z",
     "shell.execute_reply.started": "2021-09-17T04:58:29.537021Z"
    },
    "papermill": {
     "duration": 0.063953,
     "end_time": "2021-09-17T06:05:13.223463",
     "exception": false,
     "start_time": "2021-09-17T06:05:13.159510",
     "status": "completed"
    },
    "tags": []
   }
  },
  {
   "cell_type": "markdown",
   "source": [
    "## Model Defining\n",
    "We will be using pipeline in this modelling to scale and train the data.\n",
    "We will also define the hyperparameter to tune the models using GridSearchCV"
   ],
   "metadata": {
    "papermill": {
     "duration": 0.052772,
     "end_time": "2021-09-17T06:05:13.329114",
     "exception": false,
     "start_time": "2021-09-17T06:05:13.276342",
     "status": "completed"
    },
    "tags": []
   }
  },
  {
   "cell_type": "code",
   "execution_count": 29,
   "source": [
    "#Defining Model Pipeline\r\n",
    "pipe_lr = Pipeline([('scl', StandardScaler()), ('clf', LogisticRegression(random_state=42))])\r\n",
    "pipe_dt = Pipeline([('scl', StandardScaler()), ('clf', DecisionTreeClassifier(random_state=42))])\r\n",
    "pipe_rf = Pipeline([('scl', StandardScaler()), ('clf', RandomForestClassifier(random_state=42))])\r\n",
    "pipe_knn = Pipeline([('scl', StandardScaler()), ('clf', KNeighborsClassifier())])\r\n",
    "pipe_gb = Pipeline([('scl', StandardScaler()), ('clf', GradientBoostingClassifier())])"
   ],
   "outputs": [],
   "metadata": {
    "execution": {
     "iopub.execute_input": "2021-09-17T06:05:13.442885Z",
     "iopub.status.busy": "2021-09-17T06:05:13.442155Z",
     "iopub.status.idle": "2021-09-17T06:05:13.445015Z",
     "shell.execute_reply": "2021-09-17T06:05:13.444407Z",
     "shell.execute_reply.started": "2021-09-17T04:58:29.553389Z"
    },
    "papermill": {
     "duration": 0.063464,
     "end_time": "2021-09-17T06:05:13.445155",
     "exception": false,
     "start_time": "2021-09-17T06:05:13.381691",
     "status": "completed"
    },
    "tags": []
   }
  },
  {
   "cell_type": "code",
   "execution_count": 30,
   "source": [
    "#Defining Hyperparameter for GridSearch CV\r\n",
    "grid_params_lr = [{'clf__penalty': ['l2'],\r\n",
    "\t\t'clf__C': [100, 10, 1.0, 0.1, 0.01],\r\n",
    "\t\t'clf__solver': ['newton-cg', 'lbfgs', 'liblinear']}] \r\n",
    "\r\n",
    "grid_params_rf = [{'clf__criterion': ['gini', 'entropy'],\r\n",
    "\t\t'clf__n_estimators': [10, 25, 50, 100, 250],\r\n",
    "\t\t'clf__max_features': ['auto','sqrt','log2']}]\r\n",
    "\r\n",
    "grid_params_dt = [{'clf__criterion': ['gini', 'entropy'],\r\n",
    "\t\t'clf__splitter': ['best','random'],\r\n",
    "\t\t'clf__max_features': ['auto','sqrt','log2']}]\r\n",
    "\r\n",
    "grid_params_knn = [{'clf__n_neighbors': [1,5,10,25,50],\r\n",
    "\t\t'clf__weights': ['uniform','distance'],\r\n",
    "\t\t'clf__algorithm': ['auto','ball_tree','kd_tree','brute']}]\r\n",
    "\r\n",
    "grid_params_gb = [{'clf__loss': ['deviance', 'exponential'],\r\n",
    "\t\t'clf__learning_rate': [100, 10, 1.0, 0.1, 0.01],\r\n",
    "\t\t'clf__n_estimators': [10, 25, 50, 100, 250],\r\n",
    "\t\t'clf__max_features': ['auto','sqrt','log2']}]\r\n"
   ],
   "outputs": [],
   "metadata": {
    "execution": {
     "iopub.execute_input": "2021-09-17T06:05:13.561159Z",
     "iopub.status.busy": "2021-09-17T06:05:13.560462Z",
     "iopub.status.idle": "2021-09-17T06:05:13.563396Z",
     "shell.execute_reply": "2021-09-17T06:05:13.562920Z",
     "shell.execute_reply.started": "2021-09-17T04:58:29.565678Z"
    },
    "papermill": {
     "duration": 0.06545,
     "end_time": "2021-09-17T06:05:13.563531",
     "exception": false,
     "start_time": "2021-09-17T06:05:13.498081",
     "status": "completed"
    },
    "tags": []
   }
  },
  {
   "cell_type": "code",
   "execution_count": 31,
   "source": [
    "#Definisi GridSearchCV untuk masing-masing model\r\n",
    "gs_lr = GridSearchCV(estimator=pipe_lr,\r\n",
    "\t\t\tparam_grid=grid_params_lr,\r\n",
    "\t\t\tscoring='accuracy',\r\n",
    "\t\t\tcv=10) \r\n",
    "gs_rf = GridSearchCV(estimator=pipe_rf,\r\n",
    "\t\t\tparam_grid=grid_params_rf,\r\n",
    "\t\t\tscoring='accuracy',\r\n",
    "\t\t\tcv=10)\r\n",
    "gs_dt = GridSearchCV(estimator=pipe_dt,\r\n",
    "\t\t\tparam_grid=grid_params_dt,\r\n",
    "\t\t\tscoring='accuracy',\r\n",
    "\t\t\tcv=10)\r\n",
    "gs_knn = GridSearchCV(estimator=pipe_knn,\r\n",
    "\t\t\tparam_grid=grid_params_knn,\r\n",
    "\t\t\tscoring='accuracy',\r\n",
    "\t\t\tcv=10)\r\n",
    "gs_gb = GridSearchCV(estimator=pipe_gb,\r\n",
    "\t\t\tparam_grid=grid_params_gb,\r\n",
    "\t\t\tscoring='accuracy',\r\n",
    "\t\t\tcv=10)\r\n",
    "\r\n",
    "grids = [gs_lr, gs_rf,gs_dt,gs_knn,gs_gb]\r\n"
   ],
   "outputs": [],
   "metadata": {
    "execution": {
     "iopub.execute_input": "2021-09-17T06:05:13.678314Z",
     "iopub.status.busy": "2021-09-17T06:05:13.677550Z",
     "iopub.status.idle": "2021-09-17T06:05:13.680246Z",
     "shell.execute_reply": "2021-09-17T06:05:13.680700Z",
     "shell.execute_reply.started": "2021-09-17T04:58:29.576812Z"
    },
    "papermill": {
     "duration": 0.064058,
     "end_time": "2021-09-17T06:05:13.680888",
     "exception": false,
     "start_time": "2021-09-17T06:05:13.616830",
     "status": "completed"
    },
    "tags": []
   }
  },
  {
   "cell_type": "code",
   "execution_count": 32,
   "source": [
    "grid_dict = {0: 'Logistic Regression', 1: 'Random Forest', 2: 'Decision Tree', 3: 'K Nearest Neighbors',4:'Gradient Boosting',6:'XGBoost'}"
   ],
   "outputs": [],
   "metadata": {
    "execution": {
     "iopub.execute_input": "2021-09-17T06:05:13.793353Z",
     "iopub.status.busy": "2021-09-17T06:05:13.792679Z",
     "iopub.status.idle": "2021-09-17T06:05:13.795758Z",
     "shell.execute_reply": "2021-09-17T06:05:13.795219Z",
     "shell.execute_reply.started": "2021-09-17T04:58:29.588515Z"
    },
    "papermill": {
     "duration": 0.061406,
     "end_time": "2021-09-17T06:05:13.795908",
     "exception": false,
     "start_time": "2021-09-17T06:05:13.734502",
     "status": "completed"
    },
    "tags": []
   }
  },
  {
   "cell_type": "markdown",
   "source": [
    "## Model Training"
   ],
   "metadata": {
    "papermill": {
     "duration": 0.053362,
     "end_time": "2021-09-17T06:05:13.902655",
     "exception": false,
     "start_time": "2021-09-17T06:05:13.849293",
     "status": "completed"
    },
    "tags": []
   }
  },
  {
   "cell_type": "code",
   "execution_count": 33,
   "source": [
    "#Model training with hyperparameter tuning using gridsearchcv\r\n",
    "print('Performing model optimizations...')\r\n",
    "best_acc = 0.0\r\n",
    "best_clf = 0\r\n",
    "best_gs = ''\r\n",
    "for idx, gs in enumerate(grids):\r\n",
    "\tprint('\\nEstimator: %s' % grid_dict[idx])\t\r\n",
    "\t# Fit grid search\t\r\n",
    "\tgs.fit(X_train, y_train)\r\n",
    "\t# Best params\r\n",
    "\tprint('Best params: %s' % gs.best_params_)\r\n",
    "\t# Best training data accuracy\r\n",
    "\tprint('Best training accuracy: %.3f' % gs.best_score_)\r\n",
    "\t# Predict on test data with best params\r\n",
    "\ty_pred = gs.predict(X_test)\r\n",
    "\t# Test data accuracy of model with best params\r\n",
    "\tprint('Test set accuracy for best params: %.3f ' % f1_score(y_test, y_pred))\r\n",
    "\t# Track best (highest test accuracy) model\r\n",
    "\tif accuracy_score(y_test, y_pred) > best_acc:\r\n",
    "\t\tbest_acc = accuracy_score(y_test, y_pred)\r\n",
    "\t\tbest_gs = gs\r\n",
    "\t\tbest_clf = idx\r\n",
    "print('\\nClassifier with best test set accuracy: %s' % grid_dict[best_clf])"
   ],
   "outputs": [
    {
     "output_type": "stream",
     "name": "stdout",
     "text": [
      "Performing model optimizations...\n",
      "\n",
      "Estimator: Logistic Regression\n",
      "Best params: {'clf__C': 0.1, 'clf__penalty': 'l2', 'clf__solver': 'newton-cg'}\n",
      "Best training accuracy: 0.799\n",
      "Test set accuracy for best params: 0.746 \n",
      "\n",
      "Estimator: Random Forest\n",
      "Best params: {'clf__criterion': 'gini', 'clf__max_features': 'auto', 'clf__n_estimators': 100}\n",
      "Best training accuracy: 0.801\n",
      "Test set accuracy for best params: 0.759 \n",
      "\n",
      "Estimator: Decision Tree\n",
      "Best params: {'clf__criterion': 'entropy', 'clf__max_features': 'auto', 'clf__splitter': 'best'}\n",
      "Best training accuracy: 0.770\n",
      "Test set accuracy for best params: 0.745 \n",
      "\n",
      "Estimator: K Nearest Neighbors\n",
      "Best params: {'clf__algorithm': 'auto', 'clf__n_neighbors': 10, 'clf__weights': 'uniform'}\n",
      "Best training accuracy: 0.819\n",
      "Test set accuracy for best params: 0.741 \n",
      "\n",
      "Estimator: Gradient Boosting\n",
      "Best params: {'clf__learning_rate': 0.1, 'clf__loss': 'deviance', 'clf__max_features': 'log2', 'clf__n_estimators': 50}\n",
      "Best training accuracy: 0.834\n",
      "Test set accuracy for best params: 0.748 \n",
      "\n",
      "Classifier with best test set accuracy: Random Forest\n"
     ]
    }
   ],
   "metadata": {
    "execution": {
     "iopub.execute_input": "2021-09-17T06:05:14.015939Z",
     "iopub.status.busy": "2021-09-17T06:05:14.015252Z",
     "iopub.status.idle": "2021-09-17T06:08:42.479819Z",
     "shell.execute_reply": "2021-09-17T06:08:42.480369Z",
     "shell.execute_reply.started": "2021-09-17T04:58:29.602517Z"
    },
    "papermill": {
     "duration": 208.523045,
     "end_time": "2021-09-17T06:08:42.480560",
     "exception": false,
     "start_time": "2021-09-17T06:05:13.957515",
     "status": "completed"
    },
    "tags": []
   }
  },
  {
   "cell_type": "markdown",
   "source": [
    "From the model training using gridsearchcv, the model that give highest accuracy is Random Forest\n",
    "The hyperparameters of the random forest is:\n",
    "1. Criterion : gini\n",
    "2. Max Feature : Auto\n",
    "3. N estimator : 100"
   ],
   "metadata": {
    "papermill": {
     "duration": 0.055094,
     "end_time": "2021-09-17T06:08:42.591529",
     "exception": false,
     "start_time": "2021-09-17T06:08:42.536435",
     "status": "completed"
    },
    "tags": []
   }
  },
  {
   "cell_type": "markdown",
   "source": [
    "## Model Evaluation"
   ],
   "metadata": {
    "papermill": {
     "duration": 0.055733,
     "end_time": "2021-09-17T06:08:42.702661",
     "exception": false,
     "start_time": "2021-09-17T06:08:42.646928",
     "status": "completed"
    },
    "tags": []
   }
  },
  {
   "cell_type": "code",
   "execution_count": 34,
   "source": [
    "y_pred = best_gs.predict(X_test)"
   ],
   "outputs": [],
   "metadata": {
    "execution": {
     "iopub.execute_input": "2021-09-17T06:08:42.820856Z",
     "iopub.status.busy": "2021-09-17T06:08:42.820153Z",
     "iopub.status.idle": "2021-09-17T06:08:42.835979Z",
     "shell.execute_reply": "2021-09-17T06:08:42.835400Z",
     "shell.execute_reply.started": "2021-09-17T05:02:01.344410Z"
    },
    "papermill": {
     "duration": 0.078002,
     "end_time": "2021-09-17T06:08:42.836137",
     "exception": false,
     "start_time": "2021-09-17T06:08:42.758135",
     "status": "completed"
    },
    "tags": []
   }
  },
  {
   "cell_type": "code",
   "execution_count": 35,
   "source": [
    "#Construct confusion matrix\r\n",
    "cm = confusion_matrix(y_test, y_pred)\r\n",
    "print('Confusion matrix\\n\\n', cm)"
   ],
   "outputs": [
    {
     "output_type": "stream",
     "name": "stdout",
     "text": [
      "Confusion matrix\n",
      "\n",
      " [[89 16]\n",
      " [19 55]]\n"
     ]
    }
   ],
   "metadata": {
    "execution": {
     "iopub.execute_input": "2021-09-17T06:08:42.953378Z",
     "iopub.status.busy": "2021-09-17T06:08:42.951978Z",
     "iopub.status.idle": "2021-09-17T06:08:42.957779Z",
     "shell.execute_reply": "2021-09-17T06:08:42.957255Z",
     "shell.execute_reply.started": "2021-09-17T05:02:01.364787Z"
    },
    "papermill": {
     "duration": 0.066089,
     "end_time": "2021-09-17T06:08:42.957935",
     "exception": false,
     "start_time": "2021-09-17T06:08:42.891846",
     "status": "completed"
    },
    "tags": []
   }
  },
  {
   "cell_type": "code",
   "execution_count": 36,
   "source": [
    "#Interpreting confusion matrix\r\n",
    "tp = cm[1,1]\r\n",
    "tn = cm[0,0]\r\n",
    "fp = cm[0,1]\r\n",
    "fn = cm[1,0]\r\n",
    "\r\n",
    "print('True Positives(TP) = ', tp)\r\n",
    "print('True Negatives(TN) = ', tn)\r\n",
    "print('False Positives(FP) = ', fp)\r\n",
    "print('False Negatives(FN) = ', fn)"
   ],
   "outputs": [
    {
     "output_type": "stream",
     "name": "stdout",
     "text": [
      "True Positives(TP) =  55\n",
      "True Negatives(TN) =  89\n",
      "False Positives(FP) =  16\n",
      "False Negatives(FN) =  19\n"
     ]
    }
   ],
   "metadata": {
    "execution": {
     "iopub.execute_input": "2021-09-17T06:08:43.075877Z",
     "iopub.status.busy": "2021-09-17T06:08:43.075144Z",
     "iopub.status.idle": "2021-09-17T06:08:43.078985Z",
     "shell.execute_reply": "2021-09-17T06:08:43.078369Z",
     "shell.execute_reply.started": "2021-09-17T05:02:01.373427Z"
    },
    "papermill": {
     "duration": 0.065441,
     "end_time": "2021-09-17T06:08:43.079131",
     "exception": false,
     "start_time": "2021-09-17T06:08:43.013690",
     "status": "completed"
    },
    "tags": []
   }
  },
  {
   "cell_type": "code",
   "execution_count": 37,
   "source": [
    "# Calculating evaluation metrics\r\n",
    "accu = (tp+tn)/(tp+tn+fp+fn)\r\n",
    "misclass = (fn+fp)/(tp+tn+fp+fn)\r\n",
    "precis = tp/(tp+fp)\r\n",
    "sensi = tp/(tp+fn)\r\n",
    "speci = tn/(tn+fp)\r\n",
    "f1 = 2 * (precis*sensi) / (precis+sensi)\r\n",
    "\r\n",
    "\r\n",
    "print('Accuracy is ',accu)\r\n",
    "print('Misclassification is ',misclass)\r\n",
    "print('Precision is ',precis)\r\n",
    "print('Sensitivity is ',sensi)\r\n",
    "print('Specificity is',speci)\r\n",
    "print('F-1 Score is ',f1)"
   ],
   "outputs": [
    {
     "output_type": "stream",
     "name": "stdout",
     "text": [
      "Accuracy is  0.8044692737430168\n",
      "Misclassification is  0.19553072625698323\n",
      "Precision is  0.7746478873239436\n",
      "Sensitivity is  0.7432432432432432\n",
      "Specificity is 0.8476190476190476\n",
      "F-1 Score is  0.7586206896551724\n"
     ]
    }
   ],
   "metadata": {
    "execution": {
     "iopub.execute_input": "2021-09-17T06:08:43.200454Z",
     "iopub.status.busy": "2021-09-17T06:08:43.199449Z",
     "iopub.status.idle": "2021-09-17T06:08:43.203498Z",
     "shell.execute_reply": "2021-09-17T06:08:43.204023Z",
     "shell.execute_reply.started": "2021-09-17T05:02:01.386162Z"
    },
    "papermill": {
     "duration": 0.068432,
     "end_time": "2021-09-17T06:08:43.204198",
     "exception": false,
     "start_time": "2021-09-17T06:08:43.135766",
     "status": "completed"
    },
    "tags": []
   }
  },
  {
   "cell_type": "code",
   "execution_count": 38,
   "source": [
    "print (classification_report(y_test,y_pred))"
   ],
   "outputs": [
    {
     "output_type": "stream",
     "name": "stdout",
     "text": [
      "              precision    recall  f1-score   support\n",
      "\n",
      "           0       0.82      0.85      0.84       105\n",
      "           1       0.77      0.74      0.76        74\n",
      "\n",
      "    accuracy                           0.80       179\n",
      "   macro avg       0.80      0.80      0.80       179\n",
      "weighted avg       0.80      0.80      0.80       179\n",
      "\n"
     ]
    }
   ],
   "metadata": {
    "execution": {
     "iopub.execute_input": "2021-09-17T06:08:43.323861Z",
     "iopub.status.busy": "2021-09-17T06:08:43.322781Z",
     "iopub.status.idle": "2021-09-17T06:08:43.330836Z",
     "shell.execute_reply": "2021-09-17T06:08:43.330185Z",
     "shell.execute_reply.started": "2021-09-17T05:02:01.401034Z"
    },
    "papermill": {
     "duration": 0.070628,
     "end_time": "2021-09-17T06:08:43.330990",
     "exception": false,
     "start_time": "2021-09-17T06:08:43.260362",
     "status": "completed"
    },
    "tags": []
   }
  },
  {
   "cell_type": "markdown",
   "source": [
    "Interpreting the evaluation metric:\n",
    "1. Accuracy 84% which means from all the data, this model predicted 84% Positive or Negative correctly\n",
    "2. Misclassification 16% which means that from all the data, this model predicted 16% Positive or Negative incorrectly\n",
    "3. Precision 82% which means that from all the predicted positive data, 82% is True Positive.\n",
    "4. Sensitivity or Recall 78% which means that from all the actual positive data, this model predicted 78% data of True Positive.\n",
    "5. Specificity 88% which means that from all the actual negative data, this model predicted 88% data of True Negative.\n",
    "6. F1 Score 80% which means that the average of Precision and Recall is 80%"
   ],
   "metadata": {
    "papermill": {
     "duration": 0.057466,
     "end_time": "2021-09-17T06:08:43.445935",
     "exception": false,
     "start_time": "2021-09-17T06:08:43.388469",
     "status": "completed"
    },
    "tags": []
   }
  },
  {
   "cell_type": "markdown",
   "source": [
    "## Model Inference\n",
    "Now we will test the model that we selected on new data, which is the test data"
   ],
   "metadata": {
    "papermill": {
     "duration": 0.057426,
     "end_time": "2021-09-17T06:08:43.560749",
     "exception": false,
     "start_time": "2021-09-17T06:08:43.503323",
     "status": "completed"
    },
    "tags": []
   }
  },
  {
   "cell_type": "code",
   "execution_count": 39,
   "source": [
    "#Load the Test Data\r\n",
    "dftest = df = pd.read_csv('test.csv')\r\n",
    "dftest.head()"
   ],
   "outputs": [
    {
     "output_type": "execute_result",
     "data": {
      "text/html": [
       "<div>\n",
       "<style scoped>\n",
       "    .dataframe tbody tr th:only-of-type {\n",
       "        vertical-align: middle;\n",
       "    }\n",
       "\n",
       "    .dataframe tbody tr th {\n",
       "        vertical-align: top;\n",
       "    }\n",
       "\n",
       "    .dataframe thead th {\n",
       "        text-align: right;\n",
       "    }\n",
       "</style>\n",
       "<table border=\"1\" class=\"dataframe\">\n",
       "  <thead>\n",
       "    <tr style=\"text-align: right;\">\n",
       "      <th></th>\n",
       "      <th>PassengerId</th>\n",
       "      <th>Pclass</th>\n",
       "      <th>Name</th>\n",
       "      <th>Sex</th>\n",
       "      <th>Age</th>\n",
       "      <th>SibSp</th>\n",
       "      <th>Parch</th>\n",
       "      <th>Ticket</th>\n",
       "      <th>Fare</th>\n",
       "      <th>Cabin</th>\n",
       "      <th>Embarked</th>\n",
       "    </tr>\n",
       "  </thead>\n",
       "  <tbody>\n",
       "    <tr>\n",
       "      <th>0</th>\n",
       "      <td>892</td>\n",
       "      <td>3</td>\n",
       "      <td>Kelly, Mr. James</td>\n",
       "      <td>male</td>\n",
       "      <td>34.5</td>\n",
       "      <td>0</td>\n",
       "      <td>0</td>\n",
       "      <td>330911</td>\n",
       "      <td>7.8292</td>\n",
       "      <td>NaN</td>\n",
       "      <td>Q</td>\n",
       "    </tr>\n",
       "    <tr>\n",
       "      <th>1</th>\n",
       "      <td>893</td>\n",
       "      <td>3</td>\n",
       "      <td>Wilkes, Mrs. James (Ellen Needs)</td>\n",
       "      <td>female</td>\n",
       "      <td>47.0</td>\n",
       "      <td>1</td>\n",
       "      <td>0</td>\n",
       "      <td>363272</td>\n",
       "      <td>7.0000</td>\n",
       "      <td>NaN</td>\n",
       "      <td>S</td>\n",
       "    </tr>\n",
       "    <tr>\n",
       "      <th>2</th>\n",
       "      <td>894</td>\n",
       "      <td>2</td>\n",
       "      <td>Myles, Mr. Thomas Francis</td>\n",
       "      <td>male</td>\n",
       "      <td>62.0</td>\n",
       "      <td>0</td>\n",
       "      <td>0</td>\n",
       "      <td>240276</td>\n",
       "      <td>9.6875</td>\n",
       "      <td>NaN</td>\n",
       "      <td>Q</td>\n",
       "    </tr>\n",
       "    <tr>\n",
       "      <th>3</th>\n",
       "      <td>895</td>\n",
       "      <td>3</td>\n",
       "      <td>Wirz, Mr. Albert</td>\n",
       "      <td>male</td>\n",
       "      <td>27.0</td>\n",
       "      <td>0</td>\n",
       "      <td>0</td>\n",
       "      <td>315154</td>\n",
       "      <td>8.6625</td>\n",
       "      <td>NaN</td>\n",
       "      <td>S</td>\n",
       "    </tr>\n",
       "    <tr>\n",
       "      <th>4</th>\n",
       "      <td>896</td>\n",
       "      <td>3</td>\n",
       "      <td>Hirvonen, Mrs. Alexander (Helga E Lindqvist)</td>\n",
       "      <td>female</td>\n",
       "      <td>22.0</td>\n",
       "      <td>1</td>\n",
       "      <td>1</td>\n",
       "      <td>3101298</td>\n",
       "      <td>12.2875</td>\n",
       "      <td>NaN</td>\n",
       "      <td>S</td>\n",
       "    </tr>\n",
       "  </tbody>\n",
       "</table>\n",
       "</div>"
      ],
      "text/plain": [
       "   PassengerId  Pclass                                          Name     Sex  \\\n",
       "0          892       3                              Kelly, Mr. James    male   \n",
       "1          893       3              Wilkes, Mrs. James (Ellen Needs)  female   \n",
       "2          894       2                     Myles, Mr. Thomas Francis    male   \n",
       "3          895       3                              Wirz, Mr. Albert    male   \n",
       "4          896       3  Hirvonen, Mrs. Alexander (Helga E Lindqvist)  female   \n",
       "\n",
       "    Age  SibSp  Parch   Ticket     Fare Cabin Embarked  \n",
       "0  34.5      0      0   330911   7.8292   NaN        Q  \n",
       "1  47.0      1      0   363272   7.0000   NaN        S  \n",
       "2  62.0      0      0   240276   9.6875   NaN        Q  \n",
       "3  27.0      0      0   315154   8.6625   NaN        S  \n",
       "4  22.0      1      1  3101298  12.2875   NaN        S  "
      ]
     },
     "metadata": {},
     "execution_count": 39
    }
   ],
   "metadata": {
    "execution": {
     "iopub.execute_input": "2021-09-17T06:08:43.680556Z",
     "iopub.status.busy": "2021-09-17T06:08:43.679895Z",
     "iopub.status.idle": "2021-09-17T06:08:43.703872Z",
     "shell.execute_reply": "2021-09-17T06:08:43.704423Z",
     "shell.execute_reply.started": "2021-09-17T05:02:01.424396Z"
    },
    "papermill": {
     "duration": 0.086406,
     "end_time": "2021-09-17T06:08:43.704617",
     "exception": false,
     "start_time": "2021-09-17T06:08:43.618211",
     "status": "completed"
    },
    "tags": []
   }
  },
  {
   "cell_type": "code",
   "execution_count": 40,
   "source": [
    "duplicatetest = dftest[dftest.duplicated()]\r\n",
    "duplicatetest"
   ],
   "outputs": [
    {
     "output_type": "execute_result",
     "data": {
      "text/html": [
       "<div>\n",
       "<style scoped>\n",
       "    .dataframe tbody tr th:only-of-type {\n",
       "        vertical-align: middle;\n",
       "    }\n",
       "\n",
       "    .dataframe tbody tr th {\n",
       "        vertical-align: top;\n",
       "    }\n",
       "\n",
       "    .dataframe thead th {\n",
       "        text-align: right;\n",
       "    }\n",
       "</style>\n",
       "<table border=\"1\" class=\"dataframe\">\n",
       "  <thead>\n",
       "    <tr style=\"text-align: right;\">\n",
       "      <th></th>\n",
       "      <th>PassengerId</th>\n",
       "      <th>Pclass</th>\n",
       "      <th>Name</th>\n",
       "      <th>Sex</th>\n",
       "      <th>Age</th>\n",
       "      <th>SibSp</th>\n",
       "      <th>Parch</th>\n",
       "      <th>Ticket</th>\n",
       "      <th>Fare</th>\n",
       "      <th>Cabin</th>\n",
       "      <th>Embarked</th>\n",
       "    </tr>\n",
       "  </thead>\n",
       "  <tbody>\n",
       "  </tbody>\n",
       "</table>\n",
       "</div>"
      ],
      "text/plain": [
       "Empty DataFrame\n",
       "Columns: [PassengerId, Pclass, Name, Sex, Age, SibSp, Parch, Ticket, Fare, Cabin, Embarked]\n",
       "Index: []"
      ]
     },
     "metadata": {},
     "execution_count": 40
    }
   ],
   "metadata": {
    "execution": {
     "iopub.execute_input": "2021-09-17T06:08:43.823206Z",
     "iopub.status.busy": "2021-09-17T06:08:43.822178Z",
     "iopub.status.idle": "2021-09-17T06:08:43.837005Z",
     "shell.execute_reply": "2021-09-17T06:08:43.836397Z",
     "shell.execute_reply.started": "2021-09-17T05:15:04.587845Z"
    },
    "papermill": {
     "duration": 0.074836,
     "end_time": "2021-09-17T06:08:43.837139",
     "exception": false,
     "start_time": "2021-09-17T06:08:43.762303",
     "status": "completed"
    },
    "tags": []
   }
  },
  {
   "cell_type": "code",
   "execution_count": 41,
   "source": [
    "#Check missing values of test data\r\n",
    "dftest.isnull().sum()"
   ],
   "outputs": [
    {
     "output_type": "execute_result",
     "data": {
      "text/plain": [
       "PassengerId      0\n",
       "Pclass           0\n",
       "Name             0\n",
       "Sex              0\n",
       "Age             86\n",
       "SibSp            0\n",
       "Parch            0\n",
       "Ticket           0\n",
       "Fare             1\n",
       "Cabin          327\n",
       "Embarked         0\n",
       "dtype: int64"
      ]
     },
     "metadata": {},
     "execution_count": 41
    }
   ],
   "metadata": {
    "execution": {
     "iopub.execute_input": "2021-09-17T06:08:43.957861Z",
     "iopub.status.busy": "2021-09-17T06:08:43.956863Z",
     "iopub.status.idle": "2021-09-17T06:08:43.965533Z",
     "shell.execute_reply": "2021-09-17T06:08:43.964917Z",
     "shell.execute_reply.started": "2021-09-17T05:15:07.859563Z"
    },
    "papermill": {
     "duration": 0.070431,
     "end_time": "2021-09-17T06:08:43.965683",
     "exception": false,
     "start_time": "2021-09-17T06:08:43.895252",
     "status": "completed"
    },
    "tags": []
   }
  },
  {
   "cell_type": "code",
   "execution_count": 42,
   "source": [
    "#Dropping the Cabin, Name and Ticket\r\n",
    "dftest_cleaned = dftest.drop(columns=['Cabin','Name','Ticket'],axis=1)\r\n",
    "#Age and Fare Feature will be imputed using Median\r\n",
    "dftest_cleaned['Age'].fillna(dftest_cleaned['Age'].median(), inplace = True)\r\n",
    "dftest_cleaned['Fare'].fillna(dftest_cleaned['Fare'].median(), inplace = True)\r\n"
   ],
   "outputs": [],
   "metadata": {
    "execution": {
     "iopub.execute_input": "2021-09-17T06:08:44.085170Z",
     "iopub.status.busy": "2021-09-17T06:08:44.084476Z",
     "iopub.status.idle": "2021-09-17T06:08:44.092277Z",
     "shell.execute_reply": "2021-09-17T06:08:44.091687Z",
     "shell.execute_reply.started": "2021-09-17T05:17:06.613094Z"
    },
    "papermill": {
     "duration": 0.06858,
     "end_time": "2021-09-17T06:08:44.092419",
     "exception": false,
     "start_time": "2021-09-17T06:08:44.023839",
     "status": "completed"
    },
    "tags": []
   }
  },
  {
   "cell_type": "code",
   "execution_count": 43,
   "source": [
    "#Recheck the missing values\r\n",
    "dftest_cleaned.isnull().sum()"
   ],
   "outputs": [
    {
     "output_type": "execute_result",
     "data": {
      "text/plain": [
       "PassengerId    0\n",
       "Pclass         0\n",
       "Sex            0\n",
       "Age            0\n",
       "SibSp          0\n",
       "Parch          0\n",
       "Fare           0\n",
       "Embarked       0\n",
       "dtype: int64"
      ]
     },
     "metadata": {},
     "execution_count": 43
    }
   ],
   "metadata": {
    "execution": {
     "iopub.execute_input": "2021-09-17T06:08:44.216051Z",
     "iopub.status.busy": "2021-09-17T06:08:44.215139Z",
     "iopub.status.idle": "2021-09-17T06:08:44.219289Z",
     "shell.execute_reply": "2021-09-17T06:08:44.218732Z",
     "shell.execute_reply.started": "2021-09-17T05:17:27.958958Z"
    },
    "papermill": {
     "duration": 0.069526,
     "end_time": "2021-09-17T06:08:44.219427",
     "exception": false,
     "start_time": "2021-09-17T06:08:44.149901",
     "status": "completed"
    },
    "tags": []
   }
  },
  {
   "cell_type": "code",
   "execution_count": 44,
   "source": [
    "cat_test = cat_ohe = ohe.transform(dftest_cleaned[categorical])\r\n",
    "ohe_dftest = pd.DataFrame(cat_test, columns = ohe.get_feature_names(input_features = categorical))\r\n",
    "dftest_encoded = pd.concat([dftest_cleaned, ohe_dftest], axis=1).drop(columns = categorical, axis=1)"
   ],
   "outputs": [],
   "metadata": {
    "execution": {
     "iopub.execute_input": "2021-09-17T06:08:44.347494Z",
     "iopub.status.busy": "2021-09-17T06:08:44.346841Z",
     "iopub.status.idle": "2021-09-17T06:08:44.348783Z",
     "shell.execute_reply": "2021-09-17T06:08:44.349329Z",
     "shell.execute_reply.started": "2021-09-17T05:40:49.494654Z"
    },
    "papermill": {
     "duration": 0.072416,
     "end_time": "2021-09-17T06:08:44.349492",
     "exception": false,
     "start_time": "2021-09-17T06:08:44.277076",
     "status": "completed"
    },
    "tags": []
   }
  },
  {
   "cell_type": "code",
   "execution_count": 45,
   "source": [
    "#Check Result of Encoded\r\n",
    "dftest_encoded"
   ],
   "outputs": [
    {
     "output_type": "execute_result",
     "data": {
      "text/html": [
       "<div>\n",
       "<style scoped>\n",
       "    .dataframe tbody tr th:only-of-type {\n",
       "        vertical-align: middle;\n",
       "    }\n",
       "\n",
       "    .dataframe tbody tr th {\n",
       "        vertical-align: top;\n",
       "    }\n",
       "\n",
       "    .dataframe thead th {\n",
       "        text-align: right;\n",
       "    }\n",
       "</style>\n",
       "<table border=\"1\" class=\"dataframe\">\n",
       "  <thead>\n",
       "    <tr style=\"text-align: right;\">\n",
       "      <th></th>\n",
       "      <th>PassengerId</th>\n",
       "      <th>Pclass</th>\n",
       "      <th>Age</th>\n",
       "      <th>SibSp</th>\n",
       "      <th>Parch</th>\n",
       "      <th>Fare</th>\n",
       "      <th>Sex_female</th>\n",
       "      <th>Sex_male</th>\n",
       "      <th>Embarked_C</th>\n",
       "      <th>Embarked_Q</th>\n",
       "      <th>Embarked_S</th>\n",
       "    </tr>\n",
       "  </thead>\n",
       "  <tbody>\n",
       "    <tr>\n",
       "      <th>0</th>\n",
       "      <td>892</td>\n",
       "      <td>3</td>\n",
       "      <td>34.5</td>\n",
       "      <td>0</td>\n",
       "      <td>0</td>\n",
       "      <td>7.8292</td>\n",
       "      <td>0.0</td>\n",
       "      <td>1.0</td>\n",
       "      <td>0.0</td>\n",
       "      <td>1.0</td>\n",
       "      <td>0.0</td>\n",
       "    </tr>\n",
       "    <tr>\n",
       "      <th>1</th>\n",
       "      <td>893</td>\n",
       "      <td>3</td>\n",
       "      <td>47.0</td>\n",
       "      <td>1</td>\n",
       "      <td>0</td>\n",
       "      <td>7.0000</td>\n",
       "      <td>1.0</td>\n",
       "      <td>0.0</td>\n",
       "      <td>0.0</td>\n",
       "      <td>0.0</td>\n",
       "      <td>1.0</td>\n",
       "    </tr>\n",
       "    <tr>\n",
       "      <th>2</th>\n",
       "      <td>894</td>\n",
       "      <td>2</td>\n",
       "      <td>62.0</td>\n",
       "      <td>0</td>\n",
       "      <td>0</td>\n",
       "      <td>9.6875</td>\n",
       "      <td>0.0</td>\n",
       "      <td>1.0</td>\n",
       "      <td>0.0</td>\n",
       "      <td>1.0</td>\n",
       "      <td>0.0</td>\n",
       "    </tr>\n",
       "    <tr>\n",
       "      <th>3</th>\n",
       "      <td>895</td>\n",
       "      <td>3</td>\n",
       "      <td>27.0</td>\n",
       "      <td>0</td>\n",
       "      <td>0</td>\n",
       "      <td>8.6625</td>\n",
       "      <td>0.0</td>\n",
       "      <td>1.0</td>\n",
       "      <td>0.0</td>\n",
       "      <td>0.0</td>\n",
       "      <td>1.0</td>\n",
       "    </tr>\n",
       "    <tr>\n",
       "      <th>4</th>\n",
       "      <td>896</td>\n",
       "      <td>3</td>\n",
       "      <td>22.0</td>\n",
       "      <td>1</td>\n",
       "      <td>1</td>\n",
       "      <td>12.2875</td>\n",
       "      <td>1.0</td>\n",
       "      <td>0.0</td>\n",
       "      <td>0.0</td>\n",
       "      <td>0.0</td>\n",
       "      <td>1.0</td>\n",
       "    </tr>\n",
       "    <tr>\n",
       "      <th>...</th>\n",
       "      <td>...</td>\n",
       "      <td>...</td>\n",
       "      <td>...</td>\n",
       "      <td>...</td>\n",
       "      <td>...</td>\n",
       "      <td>...</td>\n",
       "      <td>...</td>\n",
       "      <td>...</td>\n",
       "      <td>...</td>\n",
       "      <td>...</td>\n",
       "      <td>...</td>\n",
       "    </tr>\n",
       "    <tr>\n",
       "      <th>413</th>\n",
       "      <td>1305</td>\n",
       "      <td>3</td>\n",
       "      <td>27.0</td>\n",
       "      <td>0</td>\n",
       "      <td>0</td>\n",
       "      <td>8.0500</td>\n",
       "      <td>0.0</td>\n",
       "      <td>1.0</td>\n",
       "      <td>0.0</td>\n",
       "      <td>0.0</td>\n",
       "      <td>1.0</td>\n",
       "    </tr>\n",
       "    <tr>\n",
       "      <th>414</th>\n",
       "      <td>1306</td>\n",
       "      <td>1</td>\n",
       "      <td>39.0</td>\n",
       "      <td>0</td>\n",
       "      <td>0</td>\n",
       "      <td>108.9000</td>\n",
       "      <td>1.0</td>\n",
       "      <td>0.0</td>\n",
       "      <td>1.0</td>\n",
       "      <td>0.0</td>\n",
       "      <td>0.0</td>\n",
       "    </tr>\n",
       "    <tr>\n",
       "      <th>415</th>\n",
       "      <td>1307</td>\n",
       "      <td>3</td>\n",
       "      <td>38.5</td>\n",
       "      <td>0</td>\n",
       "      <td>0</td>\n",
       "      <td>7.2500</td>\n",
       "      <td>0.0</td>\n",
       "      <td>1.0</td>\n",
       "      <td>0.0</td>\n",
       "      <td>0.0</td>\n",
       "      <td>1.0</td>\n",
       "    </tr>\n",
       "    <tr>\n",
       "      <th>416</th>\n",
       "      <td>1308</td>\n",
       "      <td>3</td>\n",
       "      <td>27.0</td>\n",
       "      <td>0</td>\n",
       "      <td>0</td>\n",
       "      <td>8.0500</td>\n",
       "      <td>0.0</td>\n",
       "      <td>1.0</td>\n",
       "      <td>0.0</td>\n",
       "      <td>0.0</td>\n",
       "      <td>1.0</td>\n",
       "    </tr>\n",
       "    <tr>\n",
       "      <th>417</th>\n",
       "      <td>1309</td>\n",
       "      <td>3</td>\n",
       "      <td>27.0</td>\n",
       "      <td>1</td>\n",
       "      <td>1</td>\n",
       "      <td>22.3583</td>\n",
       "      <td>0.0</td>\n",
       "      <td>1.0</td>\n",
       "      <td>1.0</td>\n",
       "      <td>0.0</td>\n",
       "      <td>0.0</td>\n",
       "    </tr>\n",
       "  </tbody>\n",
       "</table>\n",
       "<p>418 rows × 11 columns</p>\n",
       "</div>"
      ],
      "text/plain": [
       "     PassengerId  Pclass   Age  SibSp  Parch      Fare  Sex_female  Sex_male  \\\n",
       "0            892       3  34.5      0      0    7.8292         0.0       1.0   \n",
       "1            893       3  47.0      1      0    7.0000         1.0       0.0   \n",
       "2            894       2  62.0      0      0    9.6875         0.0       1.0   \n",
       "3            895       3  27.0      0      0    8.6625         0.0       1.0   \n",
       "4            896       3  22.0      1      1   12.2875         1.0       0.0   \n",
       "..           ...     ...   ...    ...    ...       ...         ...       ...   \n",
       "413         1305       3  27.0      0      0    8.0500         0.0       1.0   \n",
       "414         1306       1  39.0      0      0  108.9000         1.0       0.0   \n",
       "415         1307       3  38.5      0      0    7.2500         0.0       1.0   \n",
       "416         1308       3  27.0      0      0    8.0500         0.0       1.0   \n",
       "417         1309       3  27.0      1      1   22.3583         0.0       1.0   \n",
       "\n",
       "     Embarked_C  Embarked_Q  Embarked_S  \n",
       "0           0.0         1.0         0.0  \n",
       "1           0.0         0.0         1.0  \n",
       "2           0.0         1.0         0.0  \n",
       "3           0.0         0.0         1.0  \n",
       "4           0.0         0.0         1.0  \n",
       "..          ...         ...         ...  \n",
       "413         0.0         0.0         1.0  \n",
       "414         1.0         0.0         0.0  \n",
       "415         0.0         0.0         1.0  \n",
       "416         0.0         0.0         1.0  \n",
       "417         1.0         0.0         0.0  \n",
       "\n",
       "[418 rows x 11 columns]"
      ]
     },
     "metadata": {},
     "execution_count": 45
    }
   ],
   "metadata": {
    "execution": {
     "iopub.execute_input": "2021-09-17T06:08:44.491194Z",
     "iopub.status.busy": "2021-09-17T06:08:44.467895Z",
     "iopub.status.idle": "2021-09-17T06:08:44.494125Z",
     "shell.execute_reply": "2021-09-17T06:08:44.494624Z",
     "shell.execute_reply.started": "2021-09-17T05:40:58.455036Z"
    },
    "papermill": {
     "duration": 0.087663,
     "end_time": "2021-09-17T06:08:44.494832",
     "exception": false,
     "start_time": "2021-09-17T06:08:44.407169",
     "status": "completed"
    },
    "tags": []
   }
  },
  {
   "cell_type": "code",
   "execution_count": 46,
   "source": [
    "idtest = dftest_encoded['PassengerId'].values\r\n",
    "datatest = dftest_encoded.drop(columns = ['PassengerId'], axis=1).values"
   ],
   "outputs": [],
   "metadata": {
    "execution": {
     "iopub.execute_input": "2021-09-17T06:08:44.618987Z",
     "iopub.status.busy": "2021-09-17T06:08:44.618346Z",
     "iopub.status.idle": "2021-09-17T06:08:44.623581Z",
     "shell.execute_reply": "2021-09-17T06:08:44.624074Z",
     "shell.execute_reply.started": "2021-09-17T05:42:53.065326Z"
    },
    "papermill": {
     "duration": 0.067057,
     "end_time": "2021-09-17T06:08:44.624281",
     "exception": false,
     "start_time": "2021-09-17T06:08:44.557224",
     "status": "completed"
    },
    "tags": []
   }
  },
  {
   "cell_type": "code",
   "execution_count": 47,
   "source": [
    "y_pred_test = best_gs.predict(datatest)"
   ],
   "outputs": [],
   "metadata": {
    "execution": {
     "iopub.execute_input": "2021-09-17T06:08:44.747938Z",
     "iopub.status.busy": "2021-09-17T06:08:44.746921Z",
     "iopub.status.idle": "2021-09-17T06:08:44.766551Z",
     "shell.execute_reply": "2021-09-17T06:08:44.766000Z",
     "shell.execute_reply.started": "2021-09-17T05:43:35.989722Z"
    },
    "papermill": {
     "duration": 0.083711,
     "end_time": "2021-09-17T06:08:44.766687",
     "exception": false,
     "start_time": "2021-09-17T06:08:44.682976",
     "status": "completed"
    },
    "tags": []
   }
  },
  {
   "cell_type": "code",
   "execution_count": 48,
   "source": [
    "#Create Dataframe that consist of Passenger ID and the Survival Prediction\r\n",
    "submission = pd.DataFrame({'PassengerId': idtest,'Survived': y_pred_test})\r\n",
    "submission"
   ],
   "outputs": [
    {
     "output_type": "execute_result",
     "data": {
      "text/html": [
       "<div>\n",
       "<style scoped>\n",
       "    .dataframe tbody tr th:only-of-type {\n",
       "        vertical-align: middle;\n",
       "    }\n",
       "\n",
       "    .dataframe tbody tr th {\n",
       "        vertical-align: top;\n",
       "    }\n",
       "\n",
       "    .dataframe thead th {\n",
       "        text-align: right;\n",
       "    }\n",
       "</style>\n",
       "<table border=\"1\" class=\"dataframe\">\n",
       "  <thead>\n",
       "    <tr style=\"text-align: right;\">\n",
       "      <th></th>\n",
       "      <th>PassengerId</th>\n",
       "      <th>Survived</th>\n",
       "    </tr>\n",
       "  </thead>\n",
       "  <tbody>\n",
       "    <tr>\n",
       "      <th>0</th>\n",
       "      <td>892</td>\n",
       "      <td>0</td>\n",
       "    </tr>\n",
       "    <tr>\n",
       "      <th>1</th>\n",
       "      <td>893</td>\n",
       "      <td>0</td>\n",
       "    </tr>\n",
       "    <tr>\n",
       "      <th>2</th>\n",
       "      <td>894</td>\n",
       "      <td>0</td>\n",
       "    </tr>\n",
       "    <tr>\n",
       "      <th>3</th>\n",
       "      <td>895</td>\n",
       "      <td>1</td>\n",
       "    </tr>\n",
       "    <tr>\n",
       "      <th>4</th>\n",
       "      <td>896</td>\n",
       "      <td>0</td>\n",
       "    </tr>\n",
       "    <tr>\n",
       "      <th>...</th>\n",
       "      <td>...</td>\n",
       "      <td>...</td>\n",
       "    </tr>\n",
       "    <tr>\n",
       "      <th>413</th>\n",
       "      <td>1305</td>\n",
       "      <td>0</td>\n",
       "    </tr>\n",
       "    <tr>\n",
       "      <th>414</th>\n",
       "      <td>1306</td>\n",
       "      <td>1</td>\n",
       "    </tr>\n",
       "    <tr>\n",
       "      <th>415</th>\n",
       "      <td>1307</td>\n",
       "      <td>0</td>\n",
       "    </tr>\n",
       "    <tr>\n",
       "      <th>416</th>\n",
       "      <td>1308</td>\n",
       "      <td>0</td>\n",
       "    </tr>\n",
       "    <tr>\n",
       "      <th>417</th>\n",
       "      <td>1309</td>\n",
       "      <td>0</td>\n",
       "    </tr>\n",
       "  </tbody>\n",
       "</table>\n",
       "<p>418 rows × 2 columns</p>\n",
       "</div>"
      ],
      "text/plain": [
       "     PassengerId  Survived\n",
       "0            892         0\n",
       "1            893         0\n",
       "2            894         0\n",
       "3            895         1\n",
       "4            896         0\n",
       "..           ...       ...\n",
       "413         1305         0\n",
       "414         1306         1\n",
       "415         1307         0\n",
       "416         1308         0\n",
       "417         1309         0\n",
       "\n",
       "[418 rows x 2 columns]"
      ]
     },
     "metadata": {},
     "execution_count": 48
    }
   ],
   "metadata": {
    "execution": {
     "iopub.execute_input": "2021-09-17T06:08:44.896990Z",
     "iopub.status.busy": "2021-09-17T06:08:44.896167Z",
     "iopub.status.idle": "2021-09-17T06:08:44.899443Z",
     "shell.execute_reply": "2021-09-17T06:08:44.899943Z",
     "shell.execute_reply.started": "2021-09-17T05:44:52.246076Z"
    },
    "papermill": {
     "duration": 0.074349,
     "end_time": "2021-09-17T06:08:44.900112",
     "exception": false,
     "start_time": "2021-09-17T06:08:44.825763",
     "status": "completed"
    },
    "tags": []
   }
  },
  {
   "cell_type": "code",
   "execution_count": 49,
   "source": [
    "#Save Submission to csv\r\n",
    "submission.to_csv('survival_submission.csv', index=False)"
   ],
   "outputs": [],
   "metadata": {
    "execution": {
     "iopub.execute_input": "2021-09-17T06:08:45.024163Z",
     "iopub.status.busy": "2021-09-17T06:08:45.023446Z",
     "iopub.status.idle": "2021-09-17T06:08:45.030624Z",
     "shell.execute_reply": "2021-09-17T06:08:45.030004Z",
     "shell.execute_reply.started": "2021-09-17T05:48:42.648941Z"
    },
    "papermill": {
     "duration": 0.07108,
     "end_time": "2021-09-17T06:08:45.030769",
     "exception": false,
     "start_time": "2021-09-17T06:08:44.959689",
     "status": "completed"
    },
    "tags": []
   }
  }
 ],
 "metadata": {
  "kernelspec": {
   "name": "python3",
   "display_name": "Python 3.8.8 64-bit ('base': conda)"
  },
  "language_info": {
   "codemirror_mode": {
    "name": "ipython",
    "version": 3
   },
   "file_extension": ".py",
   "mimetype": "text/x-python",
   "name": "python",
   "nbconvert_exporter": "python",
   "pygments_lexer": "ipython3",
   "version": "3.8.8"
  },
  "papermill": {
   "default_parameters": {},
   "duration": 227.981452,
   "end_time": "2021-09-17T06:08:46.514624",
   "environment_variables": {},
   "exception": null,
   "input_path": "__notebook__.ipynb",
   "output_path": "__notebook__.ipynb",
   "parameters": {},
   "start_time": "2021-09-17T06:04:58.533172",
   "version": "2.3.3"
  },
  "interpreter": {
   "hash": "6f5a3333282cc3cade2967a8d6ad94d5be3d1b19105904835c796cab9a1eb63b"
  }
 },
 "nbformat": 4,
 "nbformat_minor": 5
}